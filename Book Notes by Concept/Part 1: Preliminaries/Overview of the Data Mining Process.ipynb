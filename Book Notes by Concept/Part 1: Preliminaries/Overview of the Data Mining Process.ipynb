{
 "cells": [
  {
   "metadata": {
    "ExecuteTime": {
     "end_time": "2025-04-29T21:33:42.034322Z",
     "start_time": "2025-04-29T21:33:41.950827Z"
    }
   },
   "cell_type": "code",
   "source": [
    "## Load data\n",
    "import pandas as pd ##imports pandas python package\n",
    "housing_df = pd.read_csv('../../.venv/lib/Datasets/WestRoxbury.csv') ## load dataset into environment\n",
    "housing_df['REMODEL'] = housing_df['REMODEL'].str.strip() ##strip whitespaces in remodel column\n",
    "housing_df['REMODEL'] = housing_df['REMODEL'].fillna('None').replace('', 'None') ##replace missing values with none"
   ],
   "id": "eafd92a38a01771a",
   "outputs": [],
   "execution_count": 17
  },
  {
   "metadata": {
    "ExecuteTime": {
     "end_time": "2025-04-29T21:33:42.095295Z",
     "start_time": "2025-04-29T21:33:42.044488Z"
    }
   },
   "cell_type": "code",
   "source": [
    "##housing_df.shape() ##find the dimensions of the data frame\n",
    "housing_df.head() ##show first 5 rows of data\n",
    "print(housing_df)##prints all rows and columns in dataset\n"
   ],
   "id": "6c87cc50e09993b0",
   "outputs": [
    {
     "name": "stdout",
     "output_type": "stream",
     "text": [
      "      TOTAL VALUE    TAX  LOT SQFT   YR BUILT  GROSS AREA   LIVING AREA  \\\n",
      "0            344.2  4330       9965      1880         2436         1352   \n",
      "1            412.6  5190       6590      1945         3108         1976   \n",
      "2            330.1  4152       7500      1890         2294         1371   \n",
      "3            498.6  6272      13773      1957         5032         2608   \n",
      "4            331.5  4170       5000      1910         2370         1438   \n",
      "...            ...   ...        ...       ...          ...          ...   \n",
      "5797         404.8  5092       6762      1938         2594         1714   \n",
      "5798         407.9  5131       9408      1950         2414         1333   \n",
      "5799         406.5  5113       7198      1987         2480         1674   \n",
      "5800         308.7  3883       6890      1946         2000         1000   \n",
      "5801         447.6  5630       7406      1950         2510         1600   \n",
      "\n",
      "      FLOORS   ROOMS  BEDROOMS   FULL BATH  HALF BATH  KITCHEN  FIREPLACE  \\\n",
      "0         2.0      6          3          1          1        1          0   \n",
      "1         2.0     10          4          2          1        1          0   \n",
      "2         2.0      8          4          1          1        1          0   \n",
      "3         1.0      9          5          1          1        1          1   \n",
      "4         2.0      7          3          2          0        1          0   \n",
      "...       ...    ...        ...        ...        ...      ...        ...   \n",
      "5797      2.0      9          3          2          1        1          1   \n",
      "5798      2.0      6          3          1          1        1          1   \n",
      "5799      2.0      7          3          1          1        1          1   \n",
      "5800      1.0      5          2          1          0        1          0   \n",
      "5801      2.0      7          3          1          1        1          1   \n",
      "\n",
      "     REMODEL  \n",
      "0       None  \n",
      "1     Recent  \n",
      "2       None  \n",
      "3       None  \n",
      "4       None  \n",
      "...      ...  \n",
      "5797  Recent  \n",
      "5798    None  \n",
      "5799    None  \n",
      "5800    None  \n",
      "5801    None  \n",
      "\n",
      "[5802 rows x 14 columns]\n"
     ]
    }
   ],
   "execution_count": 18
  },
  {
   "metadata": {
    "ExecuteTime": {
     "end_time": "2025-04-29T21:33:42.194044Z",
     "start_time": "2025-04-29T21:33:42.153211Z"
    }
   },
   "cell_type": "code",
   "source": [
    "## Renaming Columns\n",
    "housing_df = housing_df.rename(columns={'TOTAL VALUE':'TOTAL_VALUE'}) #rename a single column\n",
    "housing_df.columns = [s.strip().replace(' ', '_') for s in housing_df.columns] ##rename multiple columns that satisfy the same conditions\n",
    "print(housing_df.columns) ##print column names of dataframe"
   ],
   "id": "dfb27495c7013704",
   "outputs": [
    {
     "name": "stdout",
     "output_type": "stream",
     "text": [
      "Index(['TOTAL_VALUE', 'TAX', 'LOT_SQFT', 'YR_BUILT', 'GROSS_AREA',\n",
      "       'LIVING_AREA', 'FLOORS', 'ROOMS', 'BEDROOMS', 'FULL_BATH', 'HALF_BATH',\n",
      "       'KITCHEN', 'FIREPLACE', 'REMODEL'],\n",
      "      dtype='object')\n"
     ]
    }
   ],
   "execution_count": 19
  },
  {
   "metadata": {
    "ExecuteTime": {
     "end_time": "2025-04-29T21:33:42.359074Z",
     "start_time": "2025-04-29T21:33:42.317748Z"
    }
   },
   "cell_type": "code",
   "source": [
    "##showing specific rows of data\n",
    "housing_df.loc[0:3] ##shows first 4 rows of data\n",
    "housing_df.iloc[0:4] ##shows first 4 rows of data\n"
   ],
   "id": "c790ff2504f45f54",
   "outputs": [
    {
     "data": {
      "text/plain": [
       "   TOTAL_VALUE   TAX  LOT_SQFT  YR_BUILT  GROSS_AREA  LIVING_AREA  FLOORS  \\\n",
       "0        344.2  4330      9965      1880        2436         1352     2.0   \n",
       "1        412.6  5190      6590      1945        3108         1976     2.0   \n",
       "2        330.1  4152      7500      1890        2294         1371     2.0   \n",
       "3        498.6  6272     13773      1957        5032         2608     1.0   \n",
       "\n",
       "   ROOMS  BEDROOMS  FULL_BATH  HALF_BATH  KITCHEN  FIREPLACE REMODEL  \n",
       "0      6         3          1          1        1          0    None  \n",
       "1     10         4          2          1        1          0  Recent  \n",
       "2      8         4          1          1        1          0    None  \n",
       "3      9         5          1          1        1          1    None  "
      ],
      "text/html": [
       "<div>\n",
       "<style scoped>\n",
       "    .dataframe tbody tr th:only-of-type {\n",
       "        vertical-align: middle;\n",
       "    }\n",
       "\n",
       "    .dataframe tbody tr th {\n",
       "        vertical-align: top;\n",
       "    }\n",
       "\n",
       "    .dataframe thead th {\n",
       "        text-align: right;\n",
       "    }\n",
       "</style>\n",
       "<table border=\"1\" class=\"dataframe\">\n",
       "  <thead>\n",
       "    <tr style=\"text-align: right;\">\n",
       "      <th></th>\n",
       "      <th>TOTAL_VALUE</th>\n",
       "      <th>TAX</th>\n",
       "      <th>LOT_SQFT</th>\n",
       "      <th>YR_BUILT</th>\n",
       "      <th>GROSS_AREA</th>\n",
       "      <th>LIVING_AREA</th>\n",
       "      <th>FLOORS</th>\n",
       "      <th>ROOMS</th>\n",
       "      <th>BEDROOMS</th>\n",
       "      <th>FULL_BATH</th>\n",
       "      <th>HALF_BATH</th>\n",
       "      <th>KITCHEN</th>\n",
       "      <th>FIREPLACE</th>\n",
       "      <th>REMODEL</th>\n",
       "    </tr>\n",
       "  </thead>\n",
       "  <tbody>\n",
       "    <tr>\n",
       "      <th>0</th>\n",
       "      <td>344.2</td>\n",
       "      <td>4330</td>\n",
       "      <td>9965</td>\n",
       "      <td>1880</td>\n",
       "      <td>2436</td>\n",
       "      <td>1352</td>\n",
       "      <td>2.0</td>\n",
       "      <td>6</td>\n",
       "      <td>3</td>\n",
       "      <td>1</td>\n",
       "      <td>1</td>\n",
       "      <td>1</td>\n",
       "      <td>0</td>\n",
       "      <td>None</td>\n",
       "    </tr>\n",
       "    <tr>\n",
       "      <th>1</th>\n",
       "      <td>412.6</td>\n",
       "      <td>5190</td>\n",
       "      <td>6590</td>\n",
       "      <td>1945</td>\n",
       "      <td>3108</td>\n",
       "      <td>1976</td>\n",
       "      <td>2.0</td>\n",
       "      <td>10</td>\n",
       "      <td>4</td>\n",
       "      <td>2</td>\n",
       "      <td>1</td>\n",
       "      <td>1</td>\n",
       "      <td>0</td>\n",
       "      <td>Recent</td>\n",
       "    </tr>\n",
       "    <tr>\n",
       "      <th>2</th>\n",
       "      <td>330.1</td>\n",
       "      <td>4152</td>\n",
       "      <td>7500</td>\n",
       "      <td>1890</td>\n",
       "      <td>2294</td>\n",
       "      <td>1371</td>\n",
       "      <td>2.0</td>\n",
       "      <td>8</td>\n",
       "      <td>4</td>\n",
       "      <td>1</td>\n",
       "      <td>1</td>\n",
       "      <td>1</td>\n",
       "      <td>0</td>\n",
       "      <td>None</td>\n",
       "    </tr>\n",
       "    <tr>\n",
       "      <th>3</th>\n",
       "      <td>498.6</td>\n",
       "      <td>6272</td>\n",
       "      <td>13773</td>\n",
       "      <td>1957</td>\n",
       "      <td>5032</td>\n",
       "      <td>2608</td>\n",
       "      <td>1.0</td>\n",
       "      <td>9</td>\n",
       "      <td>5</td>\n",
       "      <td>1</td>\n",
       "      <td>1</td>\n",
       "      <td>1</td>\n",
       "      <td>1</td>\n",
       "      <td>None</td>\n",
       "    </tr>\n",
       "  </tbody>\n",
       "</table>\n",
       "</div>"
      ]
     },
     "execution_count": 20,
     "metadata": {},
     "output_type": "execute_result"
    }
   ],
   "execution_count": 20
  },
  {
   "metadata": {
    "ExecuteTime": {
     "end_time": "2025-04-29T21:33:42.479504Z",
     "start_time": "2025-04-29T21:33:42.463904Z"
    }
   },
   "cell_type": "code",
   "source": [
    "##Different ways to show a # of rows in a single column\n",
    "housing_df['TOTAL_VALUE'].iloc[0:10]\n",
    "housing_df.iloc[0:10]['TOTAL_VALUE']\n",
    "housing_df.iloc[0:10].TOTAL_VALUE\n"
   ],
   "id": "c5d2aaaabedc7a28",
   "outputs": [
    {
     "data": {
      "text/plain": [
       "0    344.2\n",
       "1    412.6\n",
       "2    330.1\n",
       "3    498.6\n",
       "4    331.5\n",
       "5    337.4\n",
       "6    359.4\n",
       "7    320.4\n",
       "8    333.5\n",
       "9    409.4\n",
       "Name: TOTAL_VALUE, dtype: float64"
      ]
     },
     "execution_count": 21,
     "metadata": {},
     "output_type": "execute_result"
    }
   ],
   "execution_count": 21
  },
  {
   "metadata": {
    "ExecuteTime": {
     "end_time": "2025-04-29T21:33:42.578326Z",
     "start_time": "2025-04-29T21:33:42.562869Z"
    }
   },
   "cell_type": "code",
   "source": [
    "##Different ways to show the 5th row and the first 10 columns\n",
    "housing_df.iloc[4][0:10]\n",
    "housing_df.iloc[4, 0:10]['TOTAL_VALUE']\n",
    "housing_df.iloc[4:5, 0:10]['TOTAL_VALUE']\n"
   ],
   "id": "e13638cae503ccb8",
   "outputs": [
    {
     "data": {
      "text/plain": [
       "4    331.5\n",
       "Name: TOTAL_VALUE, dtype: float64"
      ]
     },
     "execution_count": 22,
     "metadata": {},
     "output_type": "execute_result"
    }
   ],
   "execution_count": 22
  },
  {
   "metadata": {
    "ExecuteTime": {
     "end_time": "2025-04-29T21:33:42.752773Z",
     "start_time": "2025-04-29T21:33:42.736341Z"
    }
   },
   "cell_type": "code",
   "source": [
    "##Combining non-consecutive columns\n",
    "pd.concat([housing_df.iloc[4:6,0:2], housing_df.iloc[4:6,4:6]], axis=1)\n"
   ],
   "id": "50ee63952f51f16",
   "outputs": [
    {
     "data": {
      "text/plain": [
       "   TOTAL_VALUE   TAX  GROSS_AREA  LIVING_AREA\n",
       "4        331.5  4170        2370         1438\n",
       "5        337.4  4244        2124         1060"
      ],
      "text/html": [
       "<div>\n",
       "<style scoped>\n",
       "    .dataframe tbody tr th:only-of-type {\n",
       "        vertical-align: middle;\n",
       "    }\n",
       "\n",
       "    .dataframe tbody tr th {\n",
       "        vertical-align: top;\n",
       "    }\n",
       "\n",
       "    .dataframe thead th {\n",
       "        text-align: right;\n",
       "    }\n",
       "</style>\n",
       "<table border=\"1\" class=\"dataframe\">\n",
       "  <thead>\n",
       "    <tr style=\"text-align: right;\">\n",
       "      <th></th>\n",
       "      <th>TOTAL_VALUE</th>\n",
       "      <th>TAX</th>\n",
       "      <th>GROSS_AREA</th>\n",
       "      <th>LIVING_AREA</th>\n",
       "    </tr>\n",
       "  </thead>\n",
       "  <tbody>\n",
       "    <tr>\n",
       "      <th>4</th>\n",
       "      <td>331.5</td>\n",
       "      <td>4170</td>\n",
       "      <td>2370</td>\n",
       "      <td>1438</td>\n",
       "    </tr>\n",
       "    <tr>\n",
       "      <th>5</th>\n",
       "      <td>337.4</td>\n",
       "      <td>4244</td>\n",
       "      <td>2124</td>\n",
       "      <td>1060</td>\n",
       "    </tr>\n",
       "  </tbody>\n",
       "</table>\n",
       "</div>"
      ]
     },
     "execution_count": 23,
     "metadata": {},
     "output_type": "execute_result"
    }
   ],
   "execution_count": 23
  },
  {
   "metadata": {
    "ExecuteTime": {
     "end_time": "2025-04-29T21:33:42.884935Z",
     "start_time": "2025-04-29T21:33:42.869132Z"
    }
   },
   "cell_type": "code",
   "source": [
    "##To specify a full column to be shown\n",
    "housing_df.iloc[:,0:1]\n",
    "housing_df.TOTAL_VALUE\n",
    "housing_df['TOTAL_VALUE'][0:10] #shows first 10 rows of the TOTAL_VALUE column"
   ],
   "id": "a97587d519d110fb",
   "outputs": [
    {
     "data": {
      "text/plain": [
       "0    344.2\n",
       "1    412.6\n",
       "2    330.1\n",
       "3    498.6\n",
       "4    331.5\n",
       "5    337.4\n",
       "6    359.4\n",
       "7    320.4\n",
       "8    333.5\n",
       "9    409.4\n",
       "Name: TOTAL_VALUE, dtype: float64"
      ]
     },
     "execution_count": 24,
     "metadata": {},
     "output_type": "execute_result"
    }
   ],
   "execution_count": 24
  },
  {
   "metadata": {
    "ExecuteTime": {
     "end_time": "2025-04-29T21:33:43.181213Z",
     "start_time": "2025-04-29T21:33:43.105569Z"
    }
   },
   "cell_type": "code",
   "source": [
    "##DESCRIPTIVE STATISTICS\n",
    "print('Number of rows is ', len(housing_df['TOTAL_VALUE'])) ##gives number of rows in column selected\n",
    "print('Mean of TOTAL_VALUE ', (housing_df['TOTAL_VALUE'].mean())) ##gives average value of all observations in a column\n",
    "housing_df.describe() ##shows summary statistics of the dataset\n"
   ],
   "id": "19cd5fbf9b86a7fb",
   "outputs": [
    {
     "name": "stdout",
     "output_type": "stream",
     "text": [
      "Number of rows is  5802\n",
      "Mean of TOTAL_VALUE  392.6857149258877\n"
     ]
    },
    {
     "data": {
      "text/plain": [
       "       TOTAL_VALUE           TAX      LOT_SQFT     YR_BUILT   GROSS_AREA  \\\n",
       "count  5802.000000   5802.000000   5802.000000  5802.000000  5802.000000   \n",
       "mean    392.685715   4939.485867   6278.083764  1936.744916  2924.842123   \n",
       "std      99.177414   1247.649118   2669.707974    35.989910   883.984726   \n",
       "min     105.000000   1320.000000    997.000000     0.000000   821.000000   \n",
       "25%     325.125000   4089.500000   4772.000000  1920.000000  2347.000000   \n",
       "50%     375.900000   4728.000000   5683.000000  1935.000000  2700.000000   \n",
       "75%     438.775000   5519.500000   7022.250000  1955.000000  3239.000000   \n",
       "max    1217.800000  15319.000000  46411.000000  2011.000000  8154.000000   \n",
       "\n",
       "       LIVING_AREA       FLOORS        ROOMS     BEDROOMS    FULL_BATH  \\\n",
       "count  5802.000000  5802.000000  5802.000000  5802.000000  5802.000000   \n",
       "mean   1657.065322     1.686057     6.994829     3.230093     1.296794   \n",
       "std     540.456726     0.477994     1.437657     0.846607     0.522040   \n",
       "min     504.000000     1.000000     3.000000     1.000000     1.000000   \n",
       "25%    1308.000000     1.000000     6.000000     3.000000     1.000000   \n",
       "50%    1548.500000     2.000000     7.000000     3.000000     1.000000   \n",
       "75%    1873.750000     2.000000     8.000000     4.000000     2.000000   \n",
       "max    5289.000000    15.000000    14.000000     9.000000     5.000000   \n",
       "\n",
       "         HALF_BATH     KITCHEN    FIREPLACE  \n",
       "count  5802.000000  5802.00000  5802.000000  \n",
       "mean      0.613926     1.01534     0.739917  \n",
       "std       0.533839     0.12291     0.565108  \n",
       "min       0.000000     1.00000     0.000000  \n",
       "25%       0.000000     1.00000     0.000000  \n",
       "50%       1.000000     1.00000     1.000000  \n",
       "75%       1.000000     1.00000     1.000000  \n",
       "max       3.000000     2.00000     4.000000  "
      ],
      "text/html": [
       "<div>\n",
       "<style scoped>\n",
       "    .dataframe tbody tr th:only-of-type {\n",
       "        vertical-align: middle;\n",
       "    }\n",
       "\n",
       "    .dataframe tbody tr th {\n",
       "        vertical-align: top;\n",
       "    }\n",
       "\n",
       "    .dataframe thead th {\n",
       "        text-align: right;\n",
       "    }\n",
       "</style>\n",
       "<table border=\"1\" class=\"dataframe\">\n",
       "  <thead>\n",
       "    <tr style=\"text-align: right;\">\n",
       "      <th></th>\n",
       "      <th>TOTAL_VALUE</th>\n",
       "      <th>TAX</th>\n",
       "      <th>LOT_SQFT</th>\n",
       "      <th>YR_BUILT</th>\n",
       "      <th>GROSS_AREA</th>\n",
       "      <th>LIVING_AREA</th>\n",
       "      <th>FLOORS</th>\n",
       "      <th>ROOMS</th>\n",
       "      <th>BEDROOMS</th>\n",
       "      <th>FULL_BATH</th>\n",
       "      <th>HALF_BATH</th>\n",
       "      <th>KITCHEN</th>\n",
       "      <th>FIREPLACE</th>\n",
       "    </tr>\n",
       "  </thead>\n",
       "  <tbody>\n",
       "    <tr>\n",
       "      <th>count</th>\n",
       "      <td>5802.000000</td>\n",
       "      <td>5802.000000</td>\n",
       "      <td>5802.000000</td>\n",
       "      <td>5802.000000</td>\n",
       "      <td>5802.000000</td>\n",
       "      <td>5802.000000</td>\n",
       "      <td>5802.000000</td>\n",
       "      <td>5802.000000</td>\n",
       "      <td>5802.000000</td>\n",
       "      <td>5802.000000</td>\n",
       "      <td>5802.000000</td>\n",
       "      <td>5802.00000</td>\n",
       "      <td>5802.000000</td>\n",
       "    </tr>\n",
       "    <tr>\n",
       "      <th>mean</th>\n",
       "      <td>392.685715</td>\n",
       "      <td>4939.485867</td>\n",
       "      <td>6278.083764</td>\n",
       "      <td>1936.744916</td>\n",
       "      <td>2924.842123</td>\n",
       "      <td>1657.065322</td>\n",
       "      <td>1.686057</td>\n",
       "      <td>6.994829</td>\n",
       "      <td>3.230093</td>\n",
       "      <td>1.296794</td>\n",
       "      <td>0.613926</td>\n",
       "      <td>1.01534</td>\n",
       "      <td>0.739917</td>\n",
       "    </tr>\n",
       "    <tr>\n",
       "      <th>std</th>\n",
       "      <td>99.177414</td>\n",
       "      <td>1247.649118</td>\n",
       "      <td>2669.707974</td>\n",
       "      <td>35.989910</td>\n",
       "      <td>883.984726</td>\n",
       "      <td>540.456726</td>\n",
       "      <td>0.477994</td>\n",
       "      <td>1.437657</td>\n",
       "      <td>0.846607</td>\n",
       "      <td>0.522040</td>\n",
       "      <td>0.533839</td>\n",
       "      <td>0.12291</td>\n",
       "      <td>0.565108</td>\n",
       "    </tr>\n",
       "    <tr>\n",
       "      <th>min</th>\n",
       "      <td>105.000000</td>\n",
       "      <td>1320.000000</td>\n",
       "      <td>997.000000</td>\n",
       "      <td>0.000000</td>\n",
       "      <td>821.000000</td>\n",
       "      <td>504.000000</td>\n",
       "      <td>1.000000</td>\n",
       "      <td>3.000000</td>\n",
       "      <td>1.000000</td>\n",
       "      <td>1.000000</td>\n",
       "      <td>0.000000</td>\n",
       "      <td>1.00000</td>\n",
       "      <td>0.000000</td>\n",
       "    </tr>\n",
       "    <tr>\n",
       "      <th>25%</th>\n",
       "      <td>325.125000</td>\n",
       "      <td>4089.500000</td>\n",
       "      <td>4772.000000</td>\n",
       "      <td>1920.000000</td>\n",
       "      <td>2347.000000</td>\n",
       "      <td>1308.000000</td>\n",
       "      <td>1.000000</td>\n",
       "      <td>6.000000</td>\n",
       "      <td>3.000000</td>\n",
       "      <td>1.000000</td>\n",
       "      <td>0.000000</td>\n",
       "      <td>1.00000</td>\n",
       "      <td>0.000000</td>\n",
       "    </tr>\n",
       "    <tr>\n",
       "      <th>50%</th>\n",
       "      <td>375.900000</td>\n",
       "      <td>4728.000000</td>\n",
       "      <td>5683.000000</td>\n",
       "      <td>1935.000000</td>\n",
       "      <td>2700.000000</td>\n",
       "      <td>1548.500000</td>\n",
       "      <td>2.000000</td>\n",
       "      <td>7.000000</td>\n",
       "      <td>3.000000</td>\n",
       "      <td>1.000000</td>\n",
       "      <td>1.000000</td>\n",
       "      <td>1.00000</td>\n",
       "      <td>1.000000</td>\n",
       "    </tr>\n",
       "    <tr>\n",
       "      <th>75%</th>\n",
       "      <td>438.775000</td>\n",
       "      <td>5519.500000</td>\n",
       "      <td>7022.250000</td>\n",
       "      <td>1955.000000</td>\n",
       "      <td>3239.000000</td>\n",
       "      <td>1873.750000</td>\n",
       "      <td>2.000000</td>\n",
       "      <td>8.000000</td>\n",
       "      <td>4.000000</td>\n",
       "      <td>2.000000</td>\n",
       "      <td>1.000000</td>\n",
       "      <td>1.00000</td>\n",
       "      <td>1.000000</td>\n",
       "    </tr>\n",
       "    <tr>\n",
       "      <th>max</th>\n",
       "      <td>1217.800000</td>\n",
       "      <td>15319.000000</td>\n",
       "      <td>46411.000000</td>\n",
       "      <td>2011.000000</td>\n",
       "      <td>8154.000000</td>\n",
       "      <td>5289.000000</td>\n",
       "      <td>15.000000</td>\n",
       "      <td>14.000000</td>\n",
       "      <td>9.000000</td>\n",
       "      <td>5.000000</td>\n",
       "      <td>3.000000</td>\n",
       "      <td>2.00000</td>\n",
       "      <td>4.000000</td>\n",
       "    </tr>\n",
       "  </tbody>\n",
       "</table>\n",
       "</div>"
      ]
     },
     "execution_count": 25,
     "metadata": {},
     "output_type": "execute_result"
    }
   ],
   "execution_count": 25
  },
  {
   "metadata": {
    "ExecuteTime": {
     "end_time": "2025-04-29T21:33:43.352691Z",
     "start_time": "2025-04-29T21:33:43.316489Z"
    }
   },
   "cell_type": "code",
   "source": [
    "##Important python package imports\n",
    "import numpy as np\n",
    "import pandas as pd\n",
    "from sklearn.model_selection import train_test_split\n",
    "from sklearn.metrics import r2_score\n",
    "from sklearn.linear_model import LinearRegression\n",
    "##Code for sampling and over/under sampling\n",
    "housing_df.sample(5) ##random sample of 5 observations\n",
    "##oversample for houses with more than 10 rooms\n",
    "weights = [0.9 if ROOMS > 10 else 0.01 for ROOMS in housing_df.ROOMS] ##creates weights to select and influence what is included in the sample, oversampling in this case\n",
    "housing_df.sample(5, weights=weights) ##create the sample dataframe with weights\n"
   ],
   "id": "ea43cca18dffa227",
   "outputs": [
    {
     "data": {
      "text/plain": [
       "      TOTAL_VALUE   TAX  LOT_SQFT  YR_BUILT  GROSS_AREA  LIVING_AREA  FLOORS  \\\n",
       "1273        311.0  3912      9331      1950        1656          828     1.0   \n",
       "2888        560.2  7047     15690      1890        5052         2780     2.0   \n",
       "2909        730.1  9184      8631      1907        5722         3250     2.0   \n",
       "3556        371.9  4678      7515      1960        2388         1265     1.5   \n",
       "3338        540.0  6793      8750      1940        3567         2342     2.0   \n",
       "\n",
       "      ROOMS  BEDROOMS  FULL_BATH  HALF_BATH  KITCHEN  FIREPLACE REMODEL  \n",
       "1273      4         2          1          0        1          1    None  \n",
       "2888     11         6          2          0        1          1    None  \n",
       "2909     12         5          2          1        1          2    None  \n",
       "3556      6         3          2          0        1          1    None  \n",
       "3338     11         3          2          1        1          1    None  "
      ],
      "text/html": [
       "<div>\n",
       "<style scoped>\n",
       "    .dataframe tbody tr th:only-of-type {\n",
       "        vertical-align: middle;\n",
       "    }\n",
       "\n",
       "    .dataframe tbody tr th {\n",
       "        vertical-align: top;\n",
       "    }\n",
       "\n",
       "    .dataframe thead th {\n",
       "        text-align: right;\n",
       "    }\n",
       "</style>\n",
       "<table border=\"1\" class=\"dataframe\">\n",
       "  <thead>\n",
       "    <tr style=\"text-align: right;\">\n",
       "      <th></th>\n",
       "      <th>TOTAL_VALUE</th>\n",
       "      <th>TAX</th>\n",
       "      <th>LOT_SQFT</th>\n",
       "      <th>YR_BUILT</th>\n",
       "      <th>GROSS_AREA</th>\n",
       "      <th>LIVING_AREA</th>\n",
       "      <th>FLOORS</th>\n",
       "      <th>ROOMS</th>\n",
       "      <th>BEDROOMS</th>\n",
       "      <th>FULL_BATH</th>\n",
       "      <th>HALF_BATH</th>\n",
       "      <th>KITCHEN</th>\n",
       "      <th>FIREPLACE</th>\n",
       "      <th>REMODEL</th>\n",
       "    </tr>\n",
       "  </thead>\n",
       "  <tbody>\n",
       "    <tr>\n",
       "      <th>1273</th>\n",
       "      <td>311.0</td>\n",
       "      <td>3912</td>\n",
       "      <td>9331</td>\n",
       "      <td>1950</td>\n",
       "      <td>1656</td>\n",
       "      <td>828</td>\n",
       "      <td>1.0</td>\n",
       "      <td>4</td>\n",
       "      <td>2</td>\n",
       "      <td>1</td>\n",
       "      <td>0</td>\n",
       "      <td>1</td>\n",
       "      <td>1</td>\n",
       "      <td>None</td>\n",
       "    </tr>\n",
       "    <tr>\n",
       "      <th>2888</th>\n",
       "      <td>560.2</td>\n",
       "      <td>7047</td>\n",
       "      <td>15690</td>\n",
       "      <td>1890</td>\n",
       "      <td>5052</td>\n",
       "      <td>2780</td>\n",
       "      <td>2.0</td>\n",
       "      <td>11</td>\n",
       "      <td>6</td>\n",
       "      <td>2</td>\n",
       "      <td>0</td>\n",
       "      <td>1</td>\n",
       "      <td>1</td>\n",
       "      <td>None</td>\n",
       "    </tr>\n",
       "    <tr>\n",
       "      <th>2909</th>\n",
       "      <td>730.1</td>\n",
       "      <td>9184</td>\n",
       "      <td>8631</td>\n",
       "      <td>1907</td>\n",
       "      <td>5722</td>\n",
       "      <td>3250</td>\n",
       "      <td>2.0</td>\n",
       "      <td>12</td>\n",
       "      <td>5</td>\n",
       "      <td>2</td>\n",
       "      <td>1</td>\n",
       "      <td>1</td>\n",
       "      <td>2</td>\n",
       "      <td>None</td>\n",
       "    </tr>\n",
       "    <tr>\n",
       "      <th>3556</th>\n",
       "      <td>371.9</td>\n",
       "      <td>4678</td>\n",
       "      <td>7515</td>\n",
       "      <td>1960</td>\n",
       "      <td>2388</td>\n",
       "      <td>1265</td>\n",
       "      <td>1.5</td>\n",
       "      <td>6</td>\n",
       "      <td>3</td>\n",
       "      <td>2</td>\n",
       "      <td>0</td>\n",
       "      <td>1</td>\n",
       "      <td>1</td>\n",
       "      <td>None</td>\n",
       "    </tr>\n",
       "    <tr>\n",
       "      <th>3338</th>\n",
       "      <td>540.0</td>\n",
       "      <td>6793</td>\n",
       "      <td>8750</td>\n",
       "      <td>1940</td>\n",
       "      <td>3567</td>\n",
       "      <td>2342</td>\n",
       "      <td>2.0</td>\n",
       "      <td>11</td>\n",
       "      <td>3</td>\n",
       "      <td>2</td>\n",
       "      <td>1</td>\n",
       "      <td>1</td>\n",
       "      <td>1</td>\n",
       "      <td>None</td>\n",
       "    </tr>\n",
       "  </tbody>\n",
       "</table>\n",
       "</div>"
      ]
     },
     "execution_count": 26,
     "metadata": {},
     "output_type": "execute_result"
    }
   ],
   "execution_count": 26
  },
  {
   "metadata": {
    "ExecuteTime": {
     "end_time": "2025-04-29T21:33:43.662990Z",
     "start_time": "2025-04-29T21:33:43.644855Z"
    }
   },
   "cell_type": "code",
   "source": [
    "##Convert REMODEL variables to categorical variables\n",
    "##Use to review variables for change\n",
    "housing_df.REMODEL = housing_df.REMODEL.astype('category')\n",
    "housing_df.REMODEL.cat.categories\n",
    "housing_df.REMODEL.dtype\n"
   ],
   "id": "9046b7035833a9ef",
   "outputs": [
    {
     "data": {
      "text/plain": [
       "CategoricalDtype(categories=['None', 'Old', 'Recent'], ordered=False, categories_dtype=object)"
      ]
     },
     "execution_count": 27,
     "metadata": {},
     "output_type": "execute_result"
    }
   ],
   "execution_count": 27
  },
  {
   "metadata": {
    "ExecuteTime": {
     "end_time": "2025-04-29T21:33:44.395842Z",
     "start_time": "2025-04-29T21:33:44.368777Z"
    }
   },
   "cell_type": "code",
   "source": [
    "##Creating binary dummies\n",
    "housing_df = pd.get_dummies(housing_df, prefix_sep='_', drop_first=True) ##use drop_first=True to drop first dummy variable, creates new columns with dummy variables\n",
    "housing_df.columns ##check for name of new columns\n",
    "housing_df.loc[:, 'REMODEL_Old':'REMODEL_Recent'].head(5) ##pulls both columns side by side with the first 5 rows (observations)"
   ],
   "id": "33b9601ccad56506",
   "outputs": [
    {
     "data": {
      "text/plain": [
       "   REMODEL_Old  REMODEL_Recent\n",
       "0        False           False\n",
       "1        False            True\n",
       "2        False           False\n",
       "3        False           False\n",
       "4        False           False"
      ],
      "text/html": [
       "<div>\n",
       "<style scoped>\n",
       "    .dataframe tbody tr th:only-of-type {\n",
       "        vertical-align: middle;\n",
       "    }\n",
       "\n",
       "    .dataframe tbody tr th {\n",
       "        vertical-align: top;\n",
       "    }\n",
       "\n",
       "    .dataframe thead th {\n",
       "        text-align: right;\n",
       "    }\n",
       "</style>\n",
       "<table border=\"1\" class=\"dataframe\">\n",
       "  <thead>\n",
       "    <tr style=\"text-align: right;\">\n",
       "      <th></th>\n",
       "      <th>REMODEL_Old</th>\n",
       "      <th>REMODEL_Recent</th>\n",
       "    </tr>\n",
       "  </thead>\n",
       "  <tbody>\n",
       "    <tr>\n",
       "      <th>0</th>\n",
       "      <td>False</td>\n",
       "      <td>False</td>\n",
       "    </tr>\n",
       "    <tr>\n",
       "      <th>1</th>\n",
       "      <td>False</td>\n",
       "      <td>True</td>\n",
       "    </tr>\n",
       "    <tr>\n",
       "      <th>2</th>\n",
       "      <td>False</td>\n",
       "      <td>False</td>\n",
       "    </tr>\n",
       "    <tr>\n",
       "      <th>3</th>\n",
       "      <td>False</td>\n",
       "      <td>False</td>\n",
       "    </tr>\n",
       "    <tr>\n",
       "      <th>4</th>\n",
       "      <td>False</td>\n",
       "      <td>False</td>\n",
       "    </tr>\n",
       "  </tbody>\n",
       "</table>\n",
       "</div>"
      ]
     },
     "execution_count": 28,
     "metadata": {},
     "output_type": "execute_result"
    }
   ],
   "execution_count": 28
  },
  {
   "metadata": {
    "ExecuteTime": {
     "end_time": "2025-04-29T21:33:44.510769Z",
     "start_time": "2025-04-29T21:33:44.492778Z"
    }
   },
   "cell_type": "code",
   "source": [
    "##Impute missing values with median value of a column\n",
    "##Add missing values to bedrooms column\n",
    "missingRows = housing_df.sample(10).index\n",
    "housing_df.loc[missingRows, 'BEDROOMS'] =np.nan\n",
    "housing_df.count()"
   ],
   "id": "10252194504093e1",
   "outputs": [
    {
     "data": {
      "text/plain": [
       "TOTAL_VALUE       5802\n",
       "TAX               5802\n",
       "LOT_SQFT          5802\n",
       "YR_BUILT          5802\n",
       "GROSS_AREA        5802\n",
       "LIVING_AREA       5802\n",
       "FLOORS            5802\n",
       "ROOMS             5802\n",
       "BEDROOMS          5792\n",
       "FULL_BATH         5802\n",
       "HALF_BATH         5802\n",
       "KITCHEN           5802\n",
       "FIREPLACE         5802\n",
       "REMODEL_Old       5802\n",
       "REMODEL_Recent    5802\n",
       "dtype: int64"
      ]
     },
     "execution_count": 29,
     "metadata": {},
     "output_type": "execute_result"
    }
   ],
   "execution_count": 29
  },
  {
   "metadata": {
    "ExecuteTime": {
     "end_time": "2025-04-29T21:33:44.628549Z",
     "start_time": "2025-04-29T21:33:44.617437Z"
    }
   },
   "cell_type": "code",
   "source": [
    "##To remove rows with missing values\n",
    "reduced_df = housing_df.dropna()\n",
    "len(reduced_df)\n"
   ],
   "id": "de9744eb1ca1c562",
   "outputs": [
    {
     "data": {
      "text/plain": [
       "5792"
      ]
     },
     "execution_count": 30,
     "metadata": {},
     "output_type": "execute_result"
    }
   ],
   "execution_count": 30
  },
  {
   "metadata": {
    "ExecuteTime": {
     "end_time": "2025-04-29T21:33:44.733513Z",
     "start_time": "2025-04-29T21:33:44.721872Z"
    }
   },
   "cell_type": "code",
   "source": [
    "##replace missing values using the median value\n",
    "medianBedrooms = housing_df['BEDROOMS'].median()\n",
    "housing_df.BEDROOMS = housing_df.BEDROOMS.fillna(value=medianBedrooms)\n",
    "housing_df['BEDROOMS'].count()"
   ],
   "id": "84d8f9090e2946e6",
   "outputs": [
    {
     "data": {
      "text/plain": [
       "np.int64(5802)"
      ]
     },
     "execution_count": 31,
     "metadata": {},
     "output_type": "execute_result"
    }
   ],
   "execution_count": 31
  },
  {
   "metadata": {
    "ExecuteTime": {
     "end_time": "2025-04-29T21:33:44.817443Z",
     "start_time": "2025-04-29T21:33:44.805657Z"
    }
   },
   "cell_type": "code",
   "source": [
    "##Creating Data Partitions\n",
    "##Create 2 data partitions: training (60%) and validation (40%)\n",
    "trainData, validData = train_test_split(housing_df, test_size=0.4, random_state=1)\n",
    "print('Training data shape: ', trainData.shape)\n",
    "print('Validation data shape: ', validData.shape)\n",
    "print()"
   ],
   "id": "8aed9a657c956368",
   "outputs": [
    {
     "name": "stdout",
     "output_type": "stream",
     "text": [
      "Training data shape:  (3481, 15)\n",
      "Validation data shape:  (2321, 15)\n",
      "\n"
     ]
    }
   ],
   "execution_count": 32
  },
  {
   "metadata": {
    "ExecuteTime": {
     "end_time": "2025-04-29T21:33:45.004587Z",
     "start_time": "2025-04-29T21:33:44.986402Z"
    }
   },
   "cell_type": "code",
   "source": [
    "##Create 3 data partitions: training (50%), validation (30%) and test (20%)\n",
    "trainData, temp = train_test_split(housing_df, test_size=0.5, random_state=1)\n",
    "validData, testData = train_test_split(temp, test_size=0.4, random_state=1)\n",
    "print('Training data shape: ', trainData.shape)\n",
    "print('Validation data shape: ', validData.shape)\n",
    "print('Test data shape: ', testData.shape)\n"
   ],
   "id": "cd87c876db3c62cb",
   "outputs": [
    {
     "name": "stdout",
     "output_type": "stream",
     "text": [
      "Training data shape:  (2901, 15)\n",
      "Validation data shape:  (1740, 15)\n",
      "Test data shape:  (1161, 15)\n"
     ]
    }
   ],
   "execution_count": 33
  },
  {
   "metadata": {
    "ExecuteTime": {
     "end_time": "2025-04-29T21:33:45.050763Z",
     "start_time": "2025-04-29T21:33:45.045691Z"
    }
   },
   "cell_type": "code",
   "source": "",
   "id": "a3d0269577dd40a0",
   "outputs": [],
   "execution_count": null
  }
 ],
 "metadata": {
  "kernelspec": {
   "name": "python3",
   "language": "python",
   "display_name": "Python 3 (ipykernel)"
  }
 },
 "nbformat": 5,
 "nbformat_minor": 9
}
