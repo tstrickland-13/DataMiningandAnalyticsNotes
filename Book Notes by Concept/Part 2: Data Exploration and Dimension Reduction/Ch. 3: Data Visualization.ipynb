{
 "cells": [
  {
   "cell_type": "code",
   "id": "initial_id",
   "metadata": {
    "collapsed": true
   },
   "source": [
    "##Import necessary packages\n",
    "import os\n",
    "import numpy as np\n",
    "import networkx as nx\n",
    "import pandas as pd\n",
    "from pandas.plotting import scatter_matrix, parallel_coordinates\n",
    "import seaborn as sns\n",
    "from sklearn import preprocessing\n",
    "import matplotlib.pylab as plt\n",
    "##Pull first 9 observations from dataset\n",
    "housing_df = pd.read_csv('../../.venv/lib/Datasets/HousingData.csv')\n",
    "housing_df['CAT_MEDV'] = np.where(housing_df['MEDV'] > 30, 1, 0) ## adjust dataset by adding a column with required info\n",
    "housing_df.head()"
   ],
   "outputs": [],
   "execution_count": null
  },
  {
   "metadata": {},
   "cell_type": "code",
   "source": [
    "##Import amtrak dataset and convert to time series\n",
    "amtrak_df = pd.read_csv('../../.venv/lib/Datasets/Amtrak.csv')\n",
    "amtrak_df['Date'] = pd.to_datetime(amtrak_df.Month, format='%b-%y')\n",
    "ridership_ts = pd.Series(amtrak_df.Ridership.values, index=amtrak_df.Date)"
   ],
   "id": "cf048ebc16e775ce",
   "outputs": [],
   "execution_count": null
  },
  {
   "metadata": {},
   "cell_type": "code",
   "source": [
    "##PANDAS VERSION OF GRAPHING\n",
    "##Line Graph\n",
    "ridership_ts.plot(ylim=[1300,2300], legend=False)\n",
    "plt.xlabel('Year')\n",
    "plt.ylabel('Ridership')\n",
    "plt.show\n"
   ],
   "id": "8e1f5189b6b0a799",
   "outputs": [],
   "execution_count": null
  },
  {
   "metadata": {},
   "cell_type": "code",
   "source": [
    "##Scatter Plot\n",
    "housing_df.plot.scatter(x='LSTAT', y='MEDV', legend=False)"
   ],
   "id": "650ee3d8c94c9937",
   "outputs": [],
   "execution_count": null
  },
  {
   "metadata": {},
   "cell_type": "code",
   "source": [
    "##Bar chart of CHAS vs mean MEDV\n",
    "ax =housing_df.groupby('CHAS').mean().plot(kind='bar')\n",
    "ax.set_ylabel('Avg. MEDV')"
   ],
   "id": "d5e74cc09de2b2e9",
   "outputs": [],
   "execution_count": null
  },
  {
   "metadata": {},
   "cell_type": "code",
   "source": [
    "##Bar chart of CHAS vs CAT_MEDV\n",
    "datafp = housing_df.groupby('CHAS').mean()['CAT_MEDV']*100\n",
    "ax = datafp.plot(kind='bar', figsize= [5,3])\n",
    "ax.set_ylabel('% of CAT.MEDV')"
   ],
   "id": "91a912201a31bec0",
   "outputs": [],
   "execution_count": null
  },
  {
   "metadata": {},
   "cell_type": "code",
   "source": [
    "##HISTOGRAM\n",
    "ax = housing_df.MEDV.hist()\n",
    "ax.set_xlabel('MEDV'); ax.set_ylabel('count')"
   ],
   "id": "2a40edea689ee3fa",
   "outputs": [],
   "execution_count": null
  },
  {
   "metadata": {},
   "cell_type": "code",
   "source": [
    "##BOXPLOT\n",
    "ax = housing_df.boxplot(column='MEDV', by='CHAS')\n",
    "ax.set_ylabel('MEDV')\n",
    "plt.suptitle('') ##suppresses the titles\n",
    "plt.title('')"
   ],
   "id": "f49bd5e8e849d892",
   "outputs": [],
   "execution_count": null
  },
  {
   "metadata": {},
   "cell_type": "code",
   "source": [
    "##MATPLOTLIB Version of Code\n",
    "##Line Graph\n",
    "plt.plot(ridership_ts.index, ridership_ts)\n",
    "plt.xlabel('Year')\n",
    "plt.ylabel('Ridership (in 000s)')"
   ],
   "id": "f44b5c0472426574",
   "outputs": [],
   "execution_count": null
  },
  {
   "metadata": {},
   "cell_type": "code",
   "source": [
    "##Scatter Plot; change color of dots and unfill circles\n",
    "plt.scatter(housing_df.LSTAT, housing_df.MEDV, color='C2',facecolor='none')\n",
    "plt.xlabel('LSTAT'); plt.ylabel('MEDV')"
   ],
   "id": "12747153abffdfcb",
   "outputs": [],
   "execution_count": null
  },
  {
   "metadata": {},
   "cell_type": "code",
   "source": [
    "##Barchart of CHAS vs mean MEDV\n",
    "dataforp = housing_df.groupby('CHAS').mean().MEDV\n",
    "fig, ax = plt.subplots()\n",
    "ax.bar(dataforp.index, dataforp, color=['C5','C1'])\n",
    "ax.set_xticks([0, 1])\n",
    "ax.set_xlabel('CHAS')\n",
    "ax.set_ylabel('Avg. MEDV')"
   ],
   "id": "e970f2c26747370c",
   "outputs": [],
   "execution_count": null
  },
  {
   "metadata": {},
   "cell_type": "code",
   "source": [
    "##Barchart of CHAS vs CAT.MEDV\n",
    "dataforp = housing_df.groupby('CHAS').mean()['CAT_MEDV']*100\n",
    "fig, ax = plt.subplots()\n",
    "ax.bar(dataforp.index, dataforp, color=['C5','C1'])\n",
    "ax.set_xticks([0, 1])\n",
    "ax.set_xlabel('CHAS'); ax.set_ylabel('% of CAT.MEDV')"
   ],
   "id": "aa3dd1a56b3aec40",
   "outputs": [],
   "execution_count": null
  },
  {
   "metadata": {},
   "cell_type": "code",
   "source": [
    "##HISTOGRAM\n",
    "fig, ax = plt.subplots()\n",
    "ax.hist(housing_df.MEDV)\n",
    "ax.set_axisbelow(True)##shows gridlines behind histogram\n",
    "ax.grid(which='major', color='grey', linestyle='--')\n",
    "ax.set_xlabel('MEDV'); ax.set_ylabel('count')\n",
    "plt.show()"
   ],
   "id": "8c4ecbd41fa2f911",
   "outputs": [],
   "execution_count": null
  },
  {
   "metadata": {},
   "cell_type": "code",
   "source": [
    "##BOXPLOT\n",
    "dataforp = [list(housing_df[housing_df.CHAS==0].MEDV), list(housing_df[housing_df.CHAS==1].MEDV)]\n",
    "fig, ax = plt.subplots()\n",
    "ax.boxplot(dataforp)\n",
    "ax.set_xticks([1,2])\n",
    "ax.set_xticklabels([0,1])\n",
    "ax.set_xlabel('CHAS'); ax.set_ylabel('MEDV')\n",
    "plt.show()"
   ],
   "id": "1d2f8efb3f0525ab",
   "outputs": [],
   "execution_count": null
  },
  {
   "metadata": {},
   "cell_type": "code",
   "source": [
    "##Side-By-Side Boxplots\n",
    "fig, axes = plt.subplots(nrows=1, ncols=4)\n",
    "housing_df.boxplot(column='NOX', by='CAT_MEDV', ax=axes[0])\n",
    "housing_df.boxplot(column='LSTAT', by='CAT_MEDV', ax=axes[1])\n",
    "housing_df.boxplot(column='PTRATIO', by='CAT_MEDV', ax=axes[2])\n",
    "housing_df.boxplot(column='INDUS', by='CAT_MEDV', ax=axes[3])\n",
    "for ax in axes:\n",
    "    ax.set_xlabel('CAT_MEDV')\n",
    "plt.suptitle('') ##suppress overall title\n",
    "plt.tight_layout() ##increase speration between plots"
   ],
   "id": "e827d67ea4ce61fe",
   "outputs": [],
   "execution_count": null
  },
  {
   "metadata": {},
   "cell_type": "code",
   "source": [
    "##Heatmaps\n",
    "##Simple heatmap of correlation without values\n",
    "corr = housing_df.corr()\n",
    "sns.heatmap(corr, xticklabels=corr.columns,yticklabels=corr.columns)"
   ],
   "id": "127deda302dcf4ff",
   "outputs": [],
   "execution_count": null
  },
  {
   "metadata": {},
   "cell_type": "code",
   "source": [
    "##Divergent Scale Colormap, edit range\n",
    "sns.heatmap(corr, xticklabels=corr.columns, yticklabels=corr.columns, vmin=-1, vmax=1, cmap=\"RdBu\")"
   ],
   "id": "beeaf37a95883252",
   "outputs": [],
   "execution_count": null
  },
  {
   "metadata": {},
   "cell_type": "code",
   "source": [
    "##Heatmap with size editing and labels\n",
    "fig, ax=plt.subplots()\n",
    "fig.set_size_inches(11, 7)\n",
    "sns.heatmap(corr, annot=True, fmt=\".1f\", center=0, ax=ax)"
   ],
   "id": "c5dd6cdbb4525001",
   "outputs": [],
   "execution_count": null
  },
  {
   "metadata": {},
   "cell_type": "code",
   "source": [
    "##Heatmap of missing values\n",
    "df = pd.read_csv('../../.venv/lib/Datasets/NYPD_COLLISIONS.csv', low_memory=False)\n",
    "##Create array, if value is missing, 1, if value is there, 0\n",
    "nainfo = np.zeros(df.shape)\n",
    "nainfo[df.isna().values]=1\n",
    "nainfo = pd.DataFrame(nainfo, columns=df.columns)"
   ],
   "id": "bfc8fa93da0dd83b",
   "outputs": [],
   "execution_count": null
  },
  {
   "metadata": {},
   "cell_type": "code",
   "source": [
    "##Plot missing value binary array\n",
    "fig, ax=plt.subplots()\n",
    "fig.set_size_inches(13, 9)\n",
    "ax=sns.heatmap(nainfo, vmin=0, vmax=1, cmap=[\"white\", \"#666666\"], cbar=False, ax=ax)\n",
    "ax.set_yticks([])"
   ],
   "id": "63733116e142f1c4",
   "outputs": [],
   "execution_count": null
  },
  {
   "metadata": {},
   "cell_type": "code",
   "source": [
    "##Draw Frame around figure output\n",
    "rect = plt.Rectangle((0, 0), nainfo.shape[1], nainfo.shape[0], linewidth=1, edgecolor='lightgrey', facecolor='none')\n",
    "rect = ax.add_patch(rect)\n",
    "rect.set_clip_on(False)\n",
    "plt.xticks(rotation=80)"
   ],
   "id": "457db2c642f8b660",
   "outputs": [],
   "execution_count": null
  },
  {
   "metadata": {},
   "cell_type": "code",
   "source": "",
   "id": "273d1fdb15276d25",
   "outputs": [],
   "execution_count": null
  }
 ],
 "metadata": {
  "kernelspec": {
   "display_name": "Python 3",
   "language": "python",
   "name": "python3"
  },
  "language_info": {
   "codemirror_mode": {
    "name": "ipython",
    "version": 2
   },
   "file_extension": ".py",
   "mimetype": "text/x-python",
   "name": "python",
   "nbconvert_exporter": "python",
   "pygments_lexer": "ipython2",
   "version": "2.7.6"
  }
 },
 "nbformat": 4,
 "nbformat_minor": 5
}
