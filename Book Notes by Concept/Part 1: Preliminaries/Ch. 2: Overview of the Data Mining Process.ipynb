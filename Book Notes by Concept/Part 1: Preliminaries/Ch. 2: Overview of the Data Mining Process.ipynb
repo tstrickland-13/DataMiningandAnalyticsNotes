{
 "cells": [
  {
   "metadata": {},
   "cell_type": "code",
   "source": [
    "## Load data\n",
    "import pandas as pd ##imports pandas python package\n",
    "housing_df = pd.read_csv('../../.venv/lib/Datasets/WestRoxbury.csv') ## load dataset into environment\n",
    "housing_df['REMODEL'] = housing_df['REMODEL'].str.strip() ##strip whitespaces in remodel column\n",
    "housing_df['REMODEL'] = housing_df['REMODEL'].fillna('None').replace('', 'None') ##replace missing values with none"
   ],
   "id": "eafd92a38a01771a",
   "outputs": [],
   "execution_count": null
  },
  {
   "metadata": {},
   "cell_type": "code",
   "source": [
    "##housing_df.shape() ##find the dimensions of the data frame\n",
    "housing_df.head() ##show first 5 rows of data\n",
    "print(housing_df)##prints all rows and columns in dataset\n"
   ],
   "id": "6c87cc50e09993b0",
   "outputs": [],
   "execution_count": null
  },
  {
   "metadata": {},
   "cell_type": "code",
   "source": [
    "## Renaming Columns\n",
    "housing_df = housing_df.rename(columns={'TOTAL VALUE':'TOTAL_VALUE'}) #rename a single column\n",
    "housing_df.columns = [s.strip().replace(' ', '_') for s in housing_df.columns] ##rename multiple columns that satisfy the same conditions\n",
    "print(housing_df.columns) ##print column names of dataframe"
   ],
   "id": "dfb27495c7013704",
   "outputs": [],
   "execution_count": null
  },
  {
   "metadata": {},
   "cell_type": "code",
   "source": [
    "##showing specific rows of data\n",
    "housing_df.loc[0:3] ##shows first 4 rows of data\n",
    "housing_df.iloc[0:4] ##shows first 4 rows of data\n"
   ],
   "id": "c790ff2504f45f54",
   "outputs": [],
   "execution_count": null
  },
  {
   "metadata": {},
   "cell_type": "code",
   "source": [
    "##Different ways to show a # of rows in a single column\n",
    "housing_df['TOTAL_VALUE'].iloc[0:10]\n",
    "housing_df.iloc[0:10]['TOTAL_VALUE']\n",
    "housing_df.iloc[0:10].TOTAL_VALUE\n"
   ],
   "id": "c5d2aaaabedc7a28",
   "outputs": [],
   "execution_count": null
  },
  {
   "metadata": {},
   "cell_type": "code",
   "source": [
    "##Different ways to show the 5th row and the first 10 columns\n",
    "housing_df.iloc[4][0:10]\n",
    "housing_df.iloc[4, 0:10]['TOTAL_VALUE']\n",
    "housing_df.iloc[4:5, 0:10]['TOTAL_VALUE']\n"
   ],
   "id": "e13638cae503ccb8",
   "outputs": [],
   "execution_count": null
  },
  {
   "metadata": {},
   "cell_type": "code",
   "source": [
    "##Combining non-consecutive columns\n",
    "pd.concat([housing_df.iloc[4:6,0:2], housing_df.iloc[4:6,4:6]], axis=1)\n"
   ],
   "id": "50ee63952f51f16",
   "outputs": [],
   "execution_count": null
  },
  {
   "metadata": {},
   "cell_type": "code",
   "source": [
    "##To specify a full column to be shown\n",
    "housing_df.iloc[:,0:1]\n",
    "housing_df.TOTAL_VALUE\n",
    "housing_df['TOTAL_VALUE'][0:10] #shows first 10 rows of the TOTAL_VALUE column"
   ],
   "id": "a97587d519d110fb",
   "outputs": [],
   "execution_count": null
  },
  {
   "metadata": {},
   "cell_type": "code",
   "source": [
    "##DESCRIPTIVE STATISTICS\n",
    "print('Number of rows is ', len(housing_df['TOTAL_VALUE'])) ##gives number of rows in column selected\n",
    "print('Mean of TOTAL_VALUE ', (housing_df['TOTAL_VALUE'].mean())) ##gives average value of all observations in a column\n",
    "housing_df.describe() ##shows summary statistics of the dataset\n"
   ],
   "id": "19cd5fbf9b86a7fb",
   "outputs": [],
   "execution_count": null
  },
  {
   "metadata": {},
   "cell_type": "code",
   "source": [
    "##Important python package imports\n",
    "import numpy as np\n",
    "import pandas as pd\n",
    "from sklearn.model_selection import train_test_split\n",
    "from sklearn.metrics import r2_score\n",
    "from sklearn.linear_model import LinearRegression\n",
    "##Code for sampling and over/under sampling\n",
    "housing_df.sample(5) ##random sample of 5 observations\n",
    "##oversample for houses with more than 10 rooms\n",
    "weights = [0.9 if ROOMS > 10 else 0.01 for ROOMS in housing_df.ROOMS] ##creates weights to select and influence what is included in the sample, oversampling in this case\n",
    "housing_df.sample(5, weights=weights) ##create the sample dataframe with weights\n"
   ],
   "id": "ea43cca18dffa227",
   "outputs": [],
   "execution_count": null
  },
  {
   "metadata": {},
   "cell_type": "code",
   "source": [
    "##Convert REMODEL variables to categorical variables\n",
    "##Use to review variables for change\n",
    "housing_df.REMODEL = housing_df.REMODEL.astype('category')\n",
    "housing_df.REMODEL.cat.categories\n",
    "housing_df.REMODEL.dtype\n"
   ],
   "id": "9046b7035833a9ef",
   "outputs": [],
   "execution_count": null
  },
  {
   "metadata": {},
   "cell_type": "code",
   "source": [
    "##Creating binary dummies\n",
    "housing_df = pd.get_dummies(housing_df, prefix_sep='_', drop_first=True) ##use drop_first=True to drop first dummy variable, creates new columns with dummy variables\n",
    "housing_df.columns ##check for name of new columns\n",
    "housing_df.loc[:, 'REMODEL_Old':'REMODEL_Recent'].head(5) ##pulls both columns side by side with the first 5 rows (observations)"
   ],
   "id": "33b9601ccad56506",
   "outputs": [],
   "execution_count": null
  },
  {
   "metadata": {},
   "cell_type": "code",
   "source": [
    "##Impute missing values with median value of a column\n",
    "##Add missing values to bedrooms column\n",
    "missingRows = housing_df.sample(10).index\n",
    "housing_df.loc[missingRows, 'BEDROOMS'] =np.nan\n",
    "housing_df.count()"
   ],
   "id": "10252194504093e1",
   "outputs": [],
   "execution_count": null
  },
  {
   "metadata": {},
   "cell_type": "code",
   "source": [
    "##To remove rows with missing values\n",
    "reduced_df = housing_df.dropna()\n",
    "len(reduced_df)\n"
   ],
   "id": "de9744eb1ca1c562",
   "outputs": [],
   "execution_count": null
  },
  {
   "metadata": {},
   "cell_type": "code",
   "source": [
    "##replace missing values using the median value\n",
    "medianBedrooms = housing_df['BEDROOMS'].median()\n",
    "housing_df.BEDROOMS = housing_df.BEDROOMS.fillna(value=medianBedrooms)\n",
    "housing_df['BEDROOMS'].count()"
   ],
   "id": "84d8f9090e2946e6",
   "outputs": [],
   "execution_count": null
  },
  {
   "metadata": {},
   "cell_type": "code",
   "source": [
    "##Creating Data Partitions\n",
    "##Create 2 data partitions: training (60%) and validation (40%)\n",
    "trainData, validData = train_test_split(housing_df, test_size=0.4, random_state=1)\n",
    "print('Training data shape: ', trainData.shape)\n",
    "print('Validation data shape: ', validData.shape)\n",
    "print()"
   ],
   "id": "8aed9a657c956368",
   "outputs": [],
   "execution_count": null
  },
  {
   "metadata": {},
   "cell_type": "code",
   "source": [
    "##Create 3 data partitions: training (50%), validation (30%) and test (20%)\n",
    "trainData, temp = train_test_split(housing_df, test_size=0.5, random_state=1)\n",
    "validData, testData = train_test_split(temp, test_size=0.4, random_state=1)\n",
    "print('Training data shape: ', trainData.shape)\n",
    "print('Validation data shape: ', validData.shape)\n",
    "print('Test data shape: ', testData.shape)\n"
   ],
   "id": "cd87c876db3c62cb",
   "outputs": [],
   "execution_count": null
  },
  {
   "metadata": {},
   "cell_type": "code",
   "source": "",
   "id": "a3d0269577dd40a0",
   "outputs": [],
   "execution_count": null
  }
 ],
 "metadata": {
  "kernelspec": {
   "name": "python3",
   "language": "python",
   "display_name": "Python 3 (ipykernel)"
  }
 },
 "nbformat": 5,
 "nbformat_minor": 9
}
