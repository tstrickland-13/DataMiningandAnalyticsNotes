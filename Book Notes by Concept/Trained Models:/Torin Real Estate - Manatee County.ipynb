{
 "cells": [
  {
   "cell_type": "code",
   "id": "initial_id",
   "metadata": {
    "collapsed": true,
    "ExecuteTime": {
     "end_time": "2025-05-19T07:25:24.692396Z",
     "start_time": "2025-05-19T07:25:21.970725Z"
    }
   },
   "source": [
    "from unittest.mock import inplace\n",
    "\n",
    "import pandas as pd\n",
    "import numpy as np\n",
    "import matplotlib.pyplot as plt\n",
    "import seaborn as sns\n",
    "\n",
    "manatee_housing = pd.read_csv('../../.venv/lib/Datasets/residential_property.csv', low_memory=False)"
   ],
   "outputs": [],
   "execution_count": 1
  },
  {
   "metadata": {
    "ExecuteTime": {
     "end_time": "2025-05-19T07:25:24.750287Z",
     "start_time": "2025-05-19T07:25:24.706861Z"
    }
   },
   "cell_type": "code",
   "source": "manatee_housing.head()",
   "id": "5e95bfeeb68ef055",
   "outputs": [
    {
     "data": {
      "text/plain": [
       "        PARID     SITUS_ADDRESS SITUS_POSTAL_CITY  SITUS_POSTAL_ZIP  \\\n",
       "0  1000010056     1101 GARY AVE          ELLENTON             34222   \n",
       "1  1000310050   1305 24TH AVE E          PALMETTO             34221   \n",
       "2    10010007  43160 BRADLEY RD            DUETTE             34219   \n",
       "3    10010056  43164 BRADLEY RD            DUETTE             34219   \n",
       "4    10011005  43002 BRADLEY RD           PARRISH             34219   \n",
       "\n",
       "   LAND_USE_CODE                     LAND_USE_DESC HOMESTEAD_INDICATOR  \\\n",
       "0            100  Single Family Residential (1554)                   N   \n",
       "1            100  Single Family Residential (1554)                   N   \n",
       "2             10       Vac Unplatted <10 Ac (1554)                   N   \n",
       "3            100  Single Family Residential (1554)                   N   \n",
       "4            725      Res Related Amenities (1554)                   N   \n",
       "\n",
       "   TAX_DISTRICT LAST_SALE_DATE LAST_SALE_VORI  ... COUNTY_EXEMPT_VALUE  \\\n",
       "0           307     01/26/2004              I  ...                 0.0   \n",
       "1           307     04/15/2003              I  ...                 0.0   \n",
       "2           313     03/09/1998              V  ...                 0.0   \n",
       "3           313     02/18/2021              I  ...                 0.0   \n",
       "4           313     04/19/2021              I  ...                 0.0   \n",
       "\n",
       "   COUNTY_TAXABLE_VALUE        OWNER_NAME_LINE1        OWNER_NAME_LINE2  \\\n",
       "0              211179.0    SEYBOLD, ROBERT F JR          SEYBOLD, LINDA   \n",
       "1              141940.0           KAHL, HENRY V        KAHL, MARGARET A   \n",
       "2               19965.0        REISS, JOHN H JR  GRAVES, EVELYN GULLETT   \n",
       "3              145429.0         YOUMANS, DENNIS                     NaN   \n",
       "4               63142.0  GULLETT, DOUGLAS JAMES                     NaN   \n",
       "\n",
       "   MAILING_ADDRESS_LINE1  MAILING_ADDRESS_LINE2   MAILING_CITY MAILING_STATE  \\\n",
       "0      315 CRESCENT CT E                    NaN      BRADENTON            FL   \n",
       "1           519 PALM AVE                    NaN       ELLENTON            FL   \n",
       "2              PO BOX 63                    NaN  WEST DANVILLE            VT   \n",
       "3       43164 BRADLEY RD                    NaN         DUETTE            FL   \n",
       "4       43200 BRADLEY RD                    NaN         DUETTE            FL   \n",
       "\n",
       "  MAILING_POSTAL_CODE  MAILING_COUNTRY  \n",
       "0          34208-1735              USA  \n",
       "1          34222-2231              USA  \n",
       "2               05873              USA  \n",
       "3               34219              USA  \n",
       "4               34219              USA  \n",
       "\n",
       "[5 rows x 35 columns]"
      ],
      "text/html": [
       "<div>\n",
       "<style scoped>\n",
       "    .dataframe tbody tr th:only-of-type {\n",
       "        vertical-align: middle;\n",
       "    }\n",
       "\n",
       "    .dataframe tbody tr th {\n",
       "        vertical-align: top;\n",
       "    }\n",
       "\n",
       "    .dataframe thead th {\n",
       "        text-align: right;\n",
       "    }\n",
       "</style>\n",
       "<table border=\"1\" class=\"dataframe\">\n",
       "  <thead>\n",
       "    <tr style=\"text-align: right;\">\n",
       "      <th></th>\n",
       "      <th>PARID</th>\n",
       "      <th>SITUS_ADDRESS</th>\n",
       "      <th>SITUS_POSTAL_CITY</th>\n",
       "      <th>SITUS_POSTAL_ZIP</th>\n",
       "      <th>LAND_USE_CODE</th>\n",
       "      <th>LAND_USE_DESC</th>\n",
       "      <th>HOMESTEAD_INDICATOR</th>\n",
       "      <th>TAX_DISTRICT</th>\n",
       "      <th>LAST_SALE_DATE</th>\n",
       "      <th>LAST_SALE_VORI</th>\n",
       "      <th>...</th>\n",
       "      <th>COUNTY_EXEMPT_VALUE</th>\n",
       "      <th>COUNTY_TAXABLE_VALUE</th>\n",
       "      <th>OWNER_NAME_LINE1</th>\n",
       "      <th>OWNER_NAME_LINE2</th>\n",
       "      <th>MAILING_ADDRESS_LINE1</th>\n",
       "      <th>MAILING_ADDRESS_LINE2</th>\n",
       "      <th>MAILING_CITY</th>\n",
       "      <th>MAILING_STATE</th>\n",
       "      <th>MAILING_POSTAL_CODE</th>\n",
       "      <th>MAILING_COUNTRY</th>\n",
       "    </tr>\n",
       "  </thead>\n",
       "  <tbody>\n",
       "    <tr>\n",
       "      <th>0</th>\n",
       "      <td>1000010056</td>\n",
       "      <td>1101 GARY AVE</td>\n",
       "      <td>ELLENTON</td>\n",
       "      <td>34222</td>\n",
       "      <td>100</td>\n",
       "      <td>Single Family Residential (1554)</td>\n",
       "      <td>N</td>\n",
       "      <td>307</td>\n",
       "      <td>01/26/2004</td>\n",
       "      <td>I</td>\n",
       "      <td>...</td>\n",
       "      <td>0.0</td>\n",
       "      <td>211179.0</td>\n",
       "      <td>SEYBOLD, ROBERT F JR</td>\n",
       "      <td>SEYBOLD, LINDA</td>\n",
       "      <td>315 CRESCENT CT E</td>\n",
       "      <td>NaN</td>\n",
       "      <td>BRADENTON</td>\n",
       "      <td>FL</td>\n",
       "      <td>34208-1735</td>\n",
       "      <td>USA</td>\n",
       "    </tr>\n",
       "    <tr>\n",
       "      <th>1</th>\n",
       "      <td>1000310050</td>\n",
       "      <td>1305 24TH AVE E</td>\n",
       "      <td>PALMETTO</td>\n",
       "      <td>34221</td>\n",
       "      <td>100</td>\n",
       "      <td>Single Family Residential (1554)</td>\n",
       "      <td>N</td>\n",
       "      <td>307</td>\n",
       "      <td>04/15/2003</td>\n",
       "      <td>I</td>\n",
       "      <td>...</td>\n",
       "      <td>0.0</td>\n",
       "      <td>141940.0</td>\n",
       "      <td>KAHL, HENRY V</td>\n",
       "      <td>KAHL, MARGARET A</td>\n",
       "      <td>519 PALM AVE</td>\n",
       "      <td>NaN</td>\n",
       "      <td>ELLENTON</td>\n",
       "      <td>FL</td>\n",
       "      <td>34222-2231</td>\n",
       "      <td>USA</td>\n",
       "    </tr>\n",
       "    <tr>\n",
       "      <th>2</th>\n",
       "      <td>10010007</td>\n",
       "      <td>43160 BRADLEY RD</td>\n",
       "      <td>DUETTE</td>\n",
       "      <td>34219</td>\n",
       "      <td>10</td>\n",
       "      <td>Vac Unplatted &lt;10 Ac (1554)</td>\n",
       "      <td>N</td>\n",
       "      <td>313</td>\n",
       "      <td>03/09/1998</td>\n",
       "      <td>V</td>\n",
       "      <td>...</td>\n",
       "      <td>0.0</td>\n",
       "      <td>19965.0</td>\n",
       "      <td>REISS, JOHN H JR</td>\n",
       "      <td>GRAVES, EVELYN GULLETT</td>\n",
       "      <td>PO BOX 63</td>\n",
       "      <td>NaN</td>\n",
       "      <td>WEST DANVILLE</td>\n",
       "      <td>VT</td>\n",
       "      <td>05873</td>\n",
       "      <td>USA</td>\n",
       "    </tr>\n",
       "    <tr>\n",
       "      <th>3</th>\n",
       "      <td>10010056</td>\n",
       "      <td>43164 BRADLEY RD</td>\n",
       "      <td>DUETTE</td>\n",
       "      <td>34219</td>\n",
       "      <td>100</td>\n",
       "      <td>Single Family Residential (1554)</td>\n",
       "      <td>N</td>\n",
       "      <td>313</td>\n",
       "      <td>02/18/2021</td>\n",
       "      <td>I</td>\n",
       "      <td>...</td>\n",
       "      <td>0.0</td>\n",
       "      <td>145429.0</td>\n",
       "      <td>YOUMANS, DENNIS</td>\n",
       "      <td>NaN</td>\n",
       "      <td>43164 BRADLEY RD</td>\n",
       "      <td>NaN</td>\n",
       "      <td>DUETTE</td>\n",
       "      <td>FL</td>\n",
       "      <td>34219</td>\n",
       "      <td>USA</td>\n",
       "    </tr>\n",
       "    <tr>\n",
       "      <th>4</th>\n",
       "      <td>10011005</td>\n",
       "      <td>43002 BRADLEY RD</td>\n",
       "      <td>PARRISH</td>\n",
       "      <td>34219</td>\n",
       "      <td>725</td>\n",
       "      <td>Res Related Amenities (1554)</td>\n",
       "      <td>N</td>\n",
       "      <td>313</td>\n",
       "      <td>04/19/2021</td>\n",
       "      <td>I</td>\n",
       "      <td>...</td>\n",
       "      <td>0.0</td>\n",
       "      <td>63142.0</td>\n",
       "      <td>GULLETT, DOUGLAS JAMES</td>\n",
       "      <td>NaN</td>\n",
       "      <td>43200 BRADLEY RD</td>\n",
       "      <td>NaN</td>\n",
       "      <td>DUETTE</td>\n",
       "      <td>FL</td>\n",
       "      <td>34219</td>\n",
       "      <td>USA</td>\n",
       "    </tr>\n",
       "  </tbody>\n",
       "</table>\n",
       "<p>5 rows × 35 columns</p>\n",
       "</div>"
      ]
     },
     "execution_count": 2,
     "metadata": {},
     "output_type": "execute_result"
    }
   ],
   "execution_count": 2
  },
  {
   "metadata": {
    "ExecuteTime": {
     "end_time": "2025-05-19T07:25:25.137201Z",
     "start_time": "2025-05-19T07:25:25.120464Z"
    }
   },
   "cell_type": "code",
   "source": "manatee_housing['SITUS_POSTAL_ZIP'].unique()",
   "id": "97ecbbfdfe9ed530",
   "outputs": [
    {
     "data": {
      "text/plain": [
       "array([34222, 34221, 34219, 34251, 34208, 34212, 34202, 34266, 34211,\n",
       "       34203, 34243, 34201, 33598, 34209, 34205, 34210, 34207, 34216,\n",
       "       34217, 34218, 34215, 34228])"
      ]
     },
     "execution_count": 3,
     "metadata": {},
     "output_type": "execute_result"
    }
   ],
   "execution_count": 3
  },
  {
   "metadata": {
    "ExecuteTime": {
     "end_time": "2025-05-19T07:25:25.585095Z",
     "start_time": "2025-05-19T07:25:25.576628Z"
    }
   },
   "cell_type": "code",
   "source": "manatee_housing.columns",
   "id": "e0268ba48e031779",
   "outputs": [
    {
     "data": {
      "text/plain": [
       "Index(['PARID', 'SITUS_ADDRESS', 'SITUS_POSTAL_CITY', 'SITUS_POSTAL_ZIP',\n",
       "       'LAND_USE_CODE', 'LAND_USE_DESC', 'HOMESTEAD_INDICATOR', 'TAX_DISTRICT',\n",
       "       'LAST_SALE_DATE', 'LAST_SALE_VORI', 'LAST_SALE_QUALIFIED',\n",
       "       'LAST_SALE_PRICE', 'LAND_ACREAGE', 'BLDG1_YEAR_BUILT',\n",
       "       'BLDGS_SQFT_LIVING', 'BLDGS_SQFT_UNROOF', 'SWIMMING_POOL',\n",
       "       'COMMUNITY_DEV_DIST', 'CRA_NAME', 'NEIGHBORHOOD_CODE',\n",
       "       'NEIGHBORHOOD_NAME', 'SUBDIVISION_CODE', 'SUBDIVISION_NAME',\n",
       "       'JUST_VALUE', 'COUNTY_ASSESSED_VALUE', 'COUNTY_EXEMPT_VALUE',\n",
       "       'COUNTY_TAXABLE_VALUE', 'OWNER_NAME_LINE1', 'OWNER_NAME_LINE2',\n",
       "       'MAILING_ADDRESS_LINE1', 'MAILING_ADDRESS_LINE2', 'MAILING_CITY',\n",
       "       'MAILING_STATE', 'MAILING_POSTAL_CODE', 'MAILING_COUNTRY'],\n",
       "      dtype='object')"
      ]
     },
     "execution_count": 4,
     "metadata": {},
     "output_type": "execute_result"
    }
   ],
   "execution_count": 4
  },
  {
   "metadata": {
    "ExecuteTime": {
     "end_time": "2025-05-19T07:25:25.934221Z",
     "start_time": "2025-05-19T07:25:25.867862Z"
    }
   },
   "cell_type": "code",
   "source": [
    "#Targeted data frame\n",
    "selected_columns = [                        #dataframe for Relevant predictive variables\n",
    "    'SITUS_POSTAL_ZIP', 'LAST_SALE_VORI', 'LAST_SALE_PRICE', 'LAND_ACREAGE', 'BLDG1_YEAR_BUILT',  'BLDGS_SQFT_LIVING', 'BLDGS_SQFT_UNROOF', 'SWIMMING_POOL',  'NEIGHBORHOOD_NAME', 'SUBDIVISION_NAME',  'JUST_VALUE', 'COUNTY_ASSESSED_VALUE'\n",
    "]\n",
    "df_model = manatee_housing[selected_columns].copy()"
   ],
   "id": "7cfb4477e39499dc",
   "outputs": [],
   "execution_count": 5
  },
  {
   "metadata": {
    "ExecuteTime": {
     "end_time": "2025-05-19T07:25:26.103966Z",
     "start_time": "2025-05-19T07:25:26.057937Z"
    }
   },
   "cell_type": "code",
   "source": [
    "##Drop missing values of outcome variables\n",
    "df_model = df_model.dropna(subset=['JUST_VALUE'])"
   ],
   "id": "493cb08dadeccac",
   "outputs": [],
   "execution_count": 6
  },
  {
   "metadata": {
    "ExecuteTime": {
     "end_time": "2025-05-19T07:25:26.210622Z",
     "start_time": "2025-05-19T07:25:26.125591Z"
    }
   },
   "cell_type": "code",
   "source": [
    "##Preprocessing\n",
    "\n",
    "df_model['SWIMMING_POOL'] = df_model['SWIMMING_POOL'].map({'Y': 1, 'N': 0}).fillna(0) #SWIMMING POOL CAT., CATEGORICAL, CHANGE TO NUMERICAL WITHOUT DUMMY VARIABLES (I.E. BOOLEAN CONVERSION)\n",
    "\n",
    "df_model['LAST_SALE_VORI'] = df_model['LAST_SALE_VORI'].map({'V': 1, 'I': 0}).fillna(0) #Change invalid or valid sales to represent sales that are passed down, or transfered from those sold in work place. Valid purchases (i.e. market sales) are represented by 1. Invalid ones represented by 0"
   ],
   "id": "3887da2fca3c77e9",
   "outputs": [],
   "execution_count": 7
  },
  {
   "metadata": {
    "ExecuteTime": {
     "end_time": "2025-05-19T07:25:26.332399Z",
     "start_time": "2025-05-19T07:25:26.270905Z"
    }
   },
   "cell_type": "code",
   "source": [
    "#Segmented analysis, analysis by neighborhood, zipcode, subdivision\n",
    "df_model_zipcode = df_model.drop(columns=['NEIGHBORHOOD_NAME', 'SUBDIVISION_NAME'])\n",
    "df_model_neighborhood = df_model.drop(columns=['SITUS_POSTAL_ZIP', 'SUBDIVISION_NAME'])\n",
    "df_model_subdivision = df_model.drop(columns=['SITUS_POSTAL_ZIP', 'NEIGHBORHOOD_NAME'])"
   ],
   "id": "15135d4440c6eead",
   "outputs": [],
   "execution_count": 8
  },
  {
   "metadata": {
    "ExecuteTime": {
     "end_time": "2025-05-19T07:25:26.421496Z",
     "start_time": "2025-05-19T07:25:26.398312Z"
    }
   },
   "cell_type": "code",
   "source": "df_model.head()",
   "id": "99c5524c0fd04d02",
   "outputs": [
    {
     "data": {
      "text/plain": [
       "   SITUS_POSTAL_ZIP  LAST_SALE_VORI  LAST_SALE_PRICE  LAND_ACREAGE  \\\n",
       "0             34222             0.0              1.0          0.83   \n",
       "1             34221             0.0         137500.0          1.00   \n",
       "2             34219             1.0           4000.0          1.00   \n",
       "3             34219             0.0         129900.0          1.00   \n",
       "4             34219             0.0             10.0          5.00   \n",
       "\n",
       "   BLDG1_YEAR_BUILT  BLDGS_SQFT_LIVING  BLDGS_SQFT_UNROOF  SWIMMING_POOL  \\\n",
       "0            1974.0               1355               2189              0   \n",
       "1            1937.0                847                922              0   \n",
       "2               NaN                  0                  0              0   \n",
       "3            1981.0                988               1572              0   \n",
       "4               NaN                  0                  0              0   \n",
       "\n",
       "                       NEIGHBORHOOD_NAME        SUBDIVISION_NAME  JUST_VALUE  \\\n",
       "0                          16 & 17/34/18  NOT IN SUBDIVISION 0/0    270465.0   \n",
       "1  PALMETTO-NORTH OF RIVER, WEST OF I-75  NOT IN SUBDIVISION 0/0    141940.0   \n",
       "2         RURAL NORTHEAST AREA OF COUNTY  NOT IN SUBDIVISION 0/0     20400.0   \n",
       "3         RURAL NORTHEAST AREA OF COUNTY  NOT IN SUBDIVISION 0/0    145429.0   \n",
       "4         RURAL NORTHEAST AREA OF COUNTY  NOT IN SUBDIVISION 0/0     63376.0   \n",
       "\n",
       "   COUNTY_ASSESSED_VALUE  \n",
       "0               211179.0  \n",
       "1               141940.0  \n",
       "2                19965.0  \n",
       "3               145429.0  \n",
       "4                63142.0  "
      ],
      "text/html": [
       "<div>\n",
       "<style scoped>\n",
       "    .dataframe tbody tr th:only-of-type {\n",
       "        vertical-align: middle;\n",
       "    }\n",
       "\n",
       "    .dataframe tbody tr th {\n",
       "        vertical-align: top;\n",
       "    }\n",
       "\n",
       "    .dataframe thead th {\n",
       "        text-align: right;\n",
       "    }\n",
       "</style>\n",
       "<table border=\"1\" class=\"dataframe\">\n",
       "  <thead>\n",
       "    <tr style=\"text-align: right;\">\n",
       "      <th></th>\n",
       "      <th>SITUS_POSTAL_ZIP</th>\n",
       "      <th>LAST_SALE_VORI</th>\n",
       "      <th>LAST_SALE_PRICE</th>\n",
       "      <th>LAND_ACREAGE</th>\n",
       "      <th>BLDG1_YEAR_BUILT</th>\n",
       "      <th>BLDGS_SQFT_LIVING</th>\n",
       "      <th>BLDGS_SQFT_UNROOF</th>\n",
       "      <th>SWIMMING_POOL</th>\n",
       "      <th>NEIGHBORHOOD_NAME</th>\n",
       "      <th>SUBDIVISION_NAME</th>\n",
       "      <th>JUST_VALUE</th>\n",
       "      <th>COUNTY_ASSESSED_VALUE</th>\n",
       "    </tr>\n",
       "  </thead>\n",
       "  <tbody>\n",
       "    <tr>\n",
       "      <th>0</th>\n",
       "      <td>34222</td>\n",
       "      <td>0.0</td>\n",
       "      <td>1.0</td>\n",
       "      <td>0.83</td>\n",
       "      <td>1974.0</td>\n",
       "      <td>1355</td>\n",
       "      <td>2189</td>\n",
       "      <td>0</td>\n",
       "      <td>16 &amp; 17/34/18</td>\n",
       "      <td>NOT IN SUBDIVISION 0/0</td>\n",
       "      <td>270465.0</td>\n",
       "      <td>211179.0</td>\n",
       "    </tr>\n",
       "    <tr>\n",
       "      <th>1</th>\n",
       "      <td>34221</td>\n",
       "      <td>0.0</td>\n",
       "      <td>137500.0</td>\n",
       "      <td>1.00</td>\n",
       "      <td>1937.0</td>\n",
       "      <td>847</td>\n",
       "      <td>922</td>\n",
       "      <td>0</td>\n",
       "      <td>PALMETTO-NORTH OF RIVER, WEST OF I-75</td>\n",
       "      <td>NOT IN SUBDIVISION 0/0</td>\n",
       "      <td>141940.0</td>\n",
       "      <td>141940.0</td>\n",
       "    </tr>\n",
       "    <tr>\n",
       "      <th>2</th>\n",
       "      <td>34219</td>\n",
       "      <td>1.0</td>\n",
       "      <td>4000.0</td>\n",
       "      <td>1.00</td>\n",
       "      <td>NaN</td>\n",
       "      <td>0</td>\n",
       "      <td>0</td>\n",
       "      <td>0</td>\n",
       "      <td>RURAL NORTHEAST AREA OF COUNTY</td>\n",
       "      <td>NOT IN SUBDIVISION 0/0</td>\n",
       "      <td>20400.0</td>\n",
       "      <td>19965.0</td>\n",
       "    </tr>\n",
       "    <tr>\n",
       "      <th>3</th>\n",
       "      <td>34219</td>\n",
       "      <td>0.0</td>\n",
       "      <td>129900.0</td>\n",
       "      <td>1.00</td>\n",
       "      <td>1981.0</td>\n",
       "      <td>988</td>\n",
       "      <td>1572</td>\n",
       "      <td>0</td>\n",
       "      <td>RURAL NORTHEAST AREA OF COUNTY</td>\n",
       "      <td>NOT IN SUBDIVISION 0/0</td>\n",
       "      <td>145429.0</td>\n",
       "      <td>145429.0</td>\n",
       "    </tr>\n",
       "    <tr>\n",
       "      <th>4</th>\n",
       "      <td>34219</td>\n",
       "      <td>0.0</td>\n",
       "      <td>10.0</td>\n",
       "      <td>5.00</td>\n",
       "      <td>NaN</td>\n",
       "      <td>0</td>\n",
       "      <td>0</td>\n",
       "      <td>0</td>\n",
       "      <td>RURAL NORTHEAST AREA OF COUNTY</td>\n",
       "      <td>NOT IN SUBDIVISION 0/0</td>\n",
       "      <td>63376.0</td>\n",
       "      <td>63142.0</td>\n",
       "    </tr>\n",
       "  </tbody>\n",
       "</table>\n",
       "</div>"
      ]
     },
     "execution_count": 9,
     "metadata": {},
     "output_type": "execute_result"
    }
   ],
   "execution_count": 9
  },
  {
   "metadata": {
    "ExecuteTime": {
     "end_time": "2025-05-19T07:25:26.638657Z",
     "start_time": "2025-05-19T07:25:26.575597Z"
    }
   },
   "cell_type": "code",
   "source": "df_model.info()",
   "id": "b182941cb5beccbe",
   "outputs": [
    {
     "name": "stdout",
     "output_type": "stream",
     "text": [
      "<class 'pandas.core.frame.DataFrame'>\n",
      "Index: 206120 entries, 0 to 210699\n",
      "Data columns (total 12 columns):\n",
      " #   Column                 Non-Null Count   Dtype  \n",
      "---  ------                 --------------   -----  \n",
      " 0   SITUS_POSTAL_ZIP       206120 non-null  int64  \n",
      " 1   LAST_SALE_VORI         206120 non-null  float64\n",
      " 2   LAST_SALE_PRICE        197049 non-null  float64\n",
      " 3   LAND_ACREAGE           202449 non-null  float64\n",
      " 4   BLDG1_YEAR_BUILT       180900 non-null  float64\n",
      " 5   BLDGS_SQFT_LIVING      206120 non-null  int64  \n",
      " 6   BLDGS_SQFT_UNROOF      206120 non-null  int64  \n",
      " 7   SWIMMING_POOL          206120 non-null  int64  \n",
      " 8   NEIGHBORHOOD_NAME      206120 non-null  object \n",
      " 9   SUBDIVISION_NAME       206117 non-null  object \n",
      " 10  JUST_VALUE             206120 non-null  float64\n",
      " 11  COUNTY_ASSESSED_VALUE  206120 non-null  float64\n",
      "dtypes: float64(6), int64(4), object(2)\n",
      "memory usage: 20.4+ MB\n"
     ]
    }
   ],
   "execution_count": 10
  },
  {
   "metadata": {
    "ExecuteTime": {
     "end_time": "2025-05-19T07:25:31.065377Z",
     "start_time": "2025-05-19T07:25:26.707283Z"
    }
   },
   "cell_type": "code",
   "source": [
    "df_model_zipcode = pd.get_dummies(df_model_zipcode, columns=['SITUS_POSTAL_ZIP'], drop_first=True) ##create dummy variables for categorical variable\n",
    "df_model_neighborhood = pd.get_dummies(df_model_neighborhood, columns=['NEIGHBORHOOD_NAME'], drop_first=True) ##create dummy variables for categorical variable\n",
    "df_model_subdivision = pd.get_dummies(df_model_subdivision, columns=['SUBDIVISION_NAME'], drop_first=True) ##create dummy variables for categorical variable"
   ],
   "id": "e0574dfbfff58b23",
   "outputs": [],
   "execution_count": 11
  },
  {
   "metadata": {
    "ExecuteTime": {
     "end_time": "2025-05-19T08:38:53.139026Z",
     "start_time": "2025-05-19T07:26:39.032938Z"
    }
   },
   "cell_type": "code",
   "source": [
    "from sklearn.model_selection import train_test_split\n",
    "from sklearn.ensemble import RandomForestRegressor\n",
    "from sklearn.metrics import mean_squared_error, r2_score\n",
    "\n",
    "# Define X and y\n",
    "X = df_model_subdivision.drop(columns=['JUST_VALUE'])\n",
    "y = df_model_subdivision['JUST_VALUE']\n",
    "\n",
    "# Split\n",
    "X_train, X_test, y_train, y_test = train_test_split(X, y, test_size=0.2, random_state=42)\n",
    "\n",
    "# Train model\n",
    "model = RandomForestRegressor(n_estimators=100, random_state=42)\n",
    "model.fit(X_train, y_train)\n",
    "\n",
    "# Evaluate\n",
    "y_pred = model.predict(X_test)\n",
    "print(\"R^2 Score:\", r2_score(y_test, y_pred))\n",
    "print(\"RMSE:\", mean_squared_error(y_test, y_pred, squared=False))"
   ],
   "id": "c14c0dcc14265d90",
   "outputs": [
    {
     "name": "stdout",
     "output_type": "stream",
     "text": [
      "R^2 Score: 0.9732920936021138\n"
     ]
    },
    {
     "ename": "TypeError",
     "evalue": "got an unexpected keyword argument 'squared'",
     "output_type": "error",
     "traceback": [
      "\u001B[31m---------------------------------------------------------------------------\u001B[39m",
      "\u001B[31mTypeError\u001B[39m                                 Traceback (most recent call last)",
      "\u001B[36mCell\u001B[39m\u001B[36m \u001B[39m\u001B[32mIn[13]\u001B[39m\u001B[32m, line 19\u001B[39m\n\u001B[32m     17\u001B[39m y_pred = model.predict(X_test)\n\u001B[32m     18\u001B[39m \u001B[38;5;28mprint\u001B[39m(\u001B[33m\"\u001B[39m\u001B[33mR^2 Score:\u001B[39m\u001B[33m\"\u001B[39m, r2_score(y_test, y_pred))\n\u001B[32m---> \u001B[39m\u001B[32m19\u001B[39m \u001B[38;5;28mprint\u001B[39m(\u001B[33m\"\u001B[39m\u001B[33mRMSE:\u001B[39m\u001B[33m\"\u001B[39m, \u001B[43mmean_squared_error\u001B[49m\u001B[43m(\u001B[49m\u001B[43my_test\u001B[49m\u001B[43m,\u001B[49m\u001B[43m \u001B[49m\u001B[43my_pred\u001B[49m\u001B[43m,\u001B[49m\u001B[43m \u001B[49m\u001B[43msquared\u001B[49m\u001B[43m=\u001B[49m\u001B[38;5;28;43;01mFalse\u001B[39;49;00m\u001B[43m)\u001B[49m)\n",
      "\u001B[36mFile \u001B[39m\u001B[32m~/PycharmProjects/DataMiningandAnalyticsNotes/.venv/lib/python3.13/site-packages/sklearn/utils/_param_validation.py:194\u001B[39m, in \u001B[36mvalidate_params.<locals>.decorator.<locals>.wrapper\u001B[39m\u001B[34m(*args, **kwargs)\u001B[39m\n\u001B[32m    191\u001B[39m func_sig = signature(func)\n\u001B[32m    193\u001B[39m \u001B[38;5;66;03m# Map *args/**kwargs to the function signature\u001B[39;00m\n\u001B[32m--> \u001B[39m\u001B[32m194\u001B[39m params = \u001B[43mfunc_sig\u001B[49m\u001B[43m.\u001B[49m\u001B[43mbind\u001B[49m\u001B[43m(\u001B[49m\u001B[43m*\u001B[49m\u001B[43margs\u001B[49m\u001B[43m,\u001B[49m\u001B[43m \u001B[49m\u001B[43m*\u001B[49m\u001B[43m*\u001B[49m\u001B[43mkwargs\u001B[49m\u001B[43m)\u001B[49m\n\u001B[32m    195\u001B[39m params.apply_defaults()\n\u001B[32m    197\u001B[39m \u001B[38;5;66;03m# ignore self/cls and positional/keyword markers\u001B[39;00m\n",
      "\u001B[36mFile \u001B[39m\u001B[32m/Library/Frameworks/Python.framework/Versions/3.13/lib/python3.13/inspect.py:3264\u001B[39m, in \u001B[36mSignature.bind\u001B[39m\u001B[34m(self, *args, **kwargs)\u001B[39m\n\u001B[32m   3259\u001B[39m \u001B[38;5;28;01mdef\u001B[39;00m\u001B[38;5;250m \u001B[39m\u001B[34mbind\u001B[39m(\u001B[38;5;28mself\u001B[39m, /, *args, **kwargs):\n\u001B[32m   3260\u001B[39m \u001B[38;5;250m    \u001B[39m\u001B[33;03m\"\"\"Get a BoundArguments object, that maps the passed `args`\u001B[39;00m\n\u001B[32m   3261\u001B[39m \u001B[33;03m    and `kwargs` to the function's signature.  Raises `TypeError`\u001B[39;00m\n\u001B[32m   3262\u001B[39m \u001B[33;03m    if the passed arguments can not be bound.\u001B[39;00m\n\u001B[32m   3263\u001B[39m \u001B[33;03m    \"\"\"\u001B[39;00m\n\u001B[32m-> \u001B[39m\u001B[32m3264\u001B[39m     \u001B[38;5;28;01mreturn\u001B[39;00m \u001B[38;5;28;43mself\u001B[39;49m\u001B[43m.\u001B[49m\u001B[43m_bind\u001B[49m\u001B[43m(\u001B[49m\u001B[43margs\u001B[49m\u001B[43m,\u001B[49m\u001B[43m \u001B[49m\u001B[43mkwargs\u001B[49m\u001B[43m)\u001B[49m\n",
      "\u001B[36mFile \u001B[39m\u001B[32m/Library/Frameworks/Python.framework/Versions/3.13/lib/python3.13/inspect.py:3253\u001B[39m, in \u001B[36mSignature._bind\u001B[39m\u001B[34m(self, args, kwargs, partial)\u001B[39m\n\u001B[32m   3243\u001B[39m         \u001B[38;5;28;01mraise\u001B[39;00m \u001B[38;5;167;01mTypeError\u001B[39;00m(\n\u001B[32m   3244\u001B[39m             \u001B[33m'\u001B[39m\u001B[33mgot some positional-only arguments passed as \u001B[39m\u001B[33m'\u001B[39m\n\u001B[32m   3245\u001B[39m             \u001B[33m'\u001B[39m\u001B[33mkeyword arguments: \u001B[39m\u001B[38;5;132;01m{arg!r}\u001B[39;00m\u001B[33m'\u001B[39m.format(\n\u001B[32m   (...)\u001B[39m\u001B[32m   3250\u001B[39m             ),\n\u001B[32m   3251\u001B[39m         )\n\u001B[32m   3252\u001B[39m     \u001B[38;5;28;01melse\u001B[39;00m:\n\u001B[32m-> \u001B[39m\u001B[32m3253\u001B[39m         \u001B[38;5;28;01mraise\u001B[39;00m \u001B[38;5;167;01mTypeError\u001B[39;00m(\n\u001B[32m   3254\u001B[39m             \u001B[33m'\u001B[39m\u001B[33mgot an unexpected keyword argument \u001B[39m\u001B[38;5;132;01m{arg!r}\u001B[39;00m\u001B[33m'\u001B[39m.format(\n\u001B[32m   3255\u001B[39m                 arg=\u001B[38;5;28mnext\u001B[39m(\u001B[38;5;28miter\u001B[39m(kwargs))))\n\u001B[32m   3257\u001B[39m \u001B[38;5;28;01mreturn\u001B[39;00m \u001B[38;5;28mself\u001B[39m._bound_arguments_cls(\u001B[38;5;28mself\u001B[39m, arguments)\n",
      "\u001B[31mTypeError\u001B[39m: got an unexpected keyword argument 'squared'"
     ]
    }
   ],
   "execution_count": 13
  }
 ],
 "metadata": {
  "kernelspec": {
   "display_name": "Python 3",
   "language": "python",
   "name": "python3"
  },
  "language_info": {
   "codemirror_mode": {
    "name": "ipython",
    "version": 2
   },
   "file_extension": ".py",
   "mimetype": "text/x-python",
   "name": "python",
   "nbconvert_exporter": "python",
   "pygments_lexer": "ipython2",
   "version": "2.7.6"
  }
 },
 "nbformat": 4,
 "nbformat_minor": 5
}
