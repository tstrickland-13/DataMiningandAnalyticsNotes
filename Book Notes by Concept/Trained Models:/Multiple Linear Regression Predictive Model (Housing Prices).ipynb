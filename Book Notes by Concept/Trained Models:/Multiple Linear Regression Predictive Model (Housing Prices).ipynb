{
 "cells": [
  {
   "cell_type": "code",
   "id": "initial_id",
   "metadata": {
    "collapsed": true,
    "ExecuteTime": {
     "end_time": "2025-05-17T00:26:18.025111Z",
     "start_time": "2025-05-17T00:26:14.830576Z"
    }
   },
   "source": [
    "##FITTING A REGRESSION MODEL TO TRAINING DATA\n",
    "import pandas as pd\n",
    "import numpy as np\n",
    "from sklearn.linear_model import LinearRegression\n",
    "from sklearn.model_selection import train_test_split\n",
    "\n",
    "##Data loading and preprocessing\n",
    "housing_df = pd.read_csv('../../.venv/lib/Datasets/WestRoxbury.csv')\n",
    "housing_df.columns = [s.strip().replace(' ', '_') for s in housing_df.columns]\n",
    "housing_df['REMODEL'] = housing_df['REMODEL'].str.strip() ##strip whitespaces in remodel column\n",
    "housing_df['REMODEL'] = housing_df['REMODEL'].fillna('None').replace('', 'None') ##replace missing values with none\n",
    "housing_df = pd.get_dummies(housing_df, prefix_sep='_', drop_first=True)"
   ],
   "outputs": [],
   "execution_count": 1
  },
  {
   "metadata": {
    "ExecuteTime": {
     "end_time": "2025-05-17T00:26:21.213712Z",
     "start_time": "2025-05-17T00:26:21.207246Z"
    }
   },
   "cell_type": "code",
   "source": [
    "##Create list of predictors and outcome\n",
    "excludeColumns = ('TOTAL_VALUE', 'TAX')\n",
    "predictors = [s for s in housing_df.columns if s not in excludeColumns]\n",
    "outcome = 'TOTAL_VALUE'"
   ],
   "id": "1e202b41df2ec13",
   "outputs": [],
   "execution_count": 2
  },
  {
   "metadata": {
    "ExecuteTime": {
     "end_time": "2025-05-17T00:26:24.057375Z",
     "start_time": "2025-05-17T00:26:24.035079Z"
    }
   },
   "cell_type": "code",
   "source": [
    "##Partition Data\n",
    "X = housing_df[predictors]\n",
    "y = housing_df[outcome]\n",
    "train_X, valid_X, train_y, valid_y = train_test_split(X, y, test_size=0.4, random_state=1)"
   ],
   "id": "2911169d5453578a",
   "outputs": [],
   "execution_count": 3
  },
  {
   "metadata": {
    "ExecuteTime": {
     "end_time": "2025-05-17T01:10:29.260105Z",
     "start_time": "2025-05-17T01:10:28.575448Z"
    }
   },
   "cell_type": "code",
   "source": [
    "##Implement linear regression model and fit to training data\n",
    "model = LinearRegression()\n",
    "model.fit(train_X, train_y)"
   ],
   "id": "3b0a2eef78644c94",
   "outputs": [
    {
     "ename": "NameError",
     "evalue": "name 'LinearRegression' is not defined",
     "output_type": "error",
     "traceback": [
      "\u001B[31m---------------------------------------------------------------------------\u001B[39m",
      "\u001B[31mNameError\u001B[39m                                 Traceback (most recent call last)",
      "\u001B[36mCell\u001B[39m\u001B[36m \u001B[39m\u001B[32mIn[1]\u001B[39m\u001B[32m, line 2\u001B[39m\n\u001B[32m      1\u001B[39m \u001B[38;5;66;03m##Implement linear regression model and fit to training data\u001B[39;00m\n\u001B[32m----> \u001B[39m\u001B[32m2\u001B[39m model = \u001B[43mLinearRegression\u001B[49m()\n\u001B[32m      3\u001B[39m model.fit(train_X, train_y)\n",
      "\u001B[31mNameError\u001B[39m: name 'LinearRegression' is not defined"
     ]
    }
   ],
   "execution_count": 1
  },
  {
   "metadata": {
    "ExecuteTime": {
     "end_time": "2025-05-17T00:26:52.848986Z",
     "start_time": "2025-05-17T00:26:52.825683Z"
    }
   },
   "cell_type": "code",
   "source": [
    "train_pred = model.predict(train_X)\n",
    "train_results = pd.DataFrame({\n",
    "    'TOTAL_VALUE': train_y,\n",
    "    'predicted': train_pred,\n",
    "    'residual': train_y - train_pred\n",
    "})\n",
    "train_results.head()"
   ],
   "id": "f56e397e146fc0e",
   "outputs": [
    {
     "data": {
      "text/plain": [
       "      TOTAL_VALUE   predicted   residual\n",
       "2024        392.0  384.951870   7.048130\n",
       "5140        476.3  431.073414  45.226586\n",
       "5259        367.4  384.579253 -17.179253\n",
       "421         350.3  372.446323 -22.146323\n",
       "1401        348.1  319.312241  28.787759"
      ],
      "text/html": [
       "<div>\n",
       "<style scoped>\n",
       "    .dataframe tbody tr th:only-of-type {\n",
       "        vertical-align: middle;\n",
       "    }\n",
       "\n",
       "    .dataframe tbody tr th {\n",
       "        vertical-align: top;\n",
       "    }\n",
       "\n",
       "    .dataframe thead th {\n",
       "        text-align: right;\n",
       "    }\n",
       "</style>\n",
       "<table border=\"1\" class=\"dataframe\">\n",
       "  <thead>\n",
       "    <tr style=\"text-align: right;\">\n",
       "      <th></th>\n",
       "      <th>TOTAL_VALUE</th>\n",
       "      <th>predicted</th>\n",
       "      <th>residual</th>\n",
       "    </tr>\n",
       "  </thead>\n",
       "  <tbody>\n",
       "    <tr>\n",
       "      <th>2024</th>\n",
       "      <td>392.0</td>\n",
       "      <td>384.951870</td>\n",
       "      <td>7.048130</td>\n",
       "    </tr>\n",
       "    <tr>\n",
       "      <th>5140</th>\n",
       "      <td>476.3</td>\n",
       "      <td>431.073414</td>\n",
       "      <td>45.226586</td>\n",
       "    </tr>\n",
       "    <tr>\n",
       "      <th>5259</th>\n",
       "      <td>367.4</td>\n",
       "      <td>384.579253</td>\n",
       "      <td>-17.179253</td>\n",
       "    </tr>\n",
       "    <tr>\n",
       "      <th>421</th>\n",
       "      <td>350.3</td>\n",
       "      <td>372.446323</td>\n",
       "      <td>-22.146323</td>\n",
       "    </tr>\n",
       "    <tr>\n",
       "      <th>1401</th>\n",
       "      <td>348.1</td>\n",
       "      <td>319.312241</td>\n",
       "      <td>28.787759</td>\n",
       "    </tr>\n",
       "  </tbody>\n",
       "</table>\n",
       "</div>"
      ]
     },
     "execution_count": 5,
     "metadata": {},
     "output_type": "execute_result"
    }
   ],
   "execution_count": 5
  },
  {
   "metadata": {
    "ExecuteTime": {
     "end_time": "2025-05-17T00:28:09.897864Z",
     "start_time": "2025-05-17T00:28:09.869480Z"
    }
   },
   "cell_type": "code",
   "source": [
    "##APPLYING REGRESSION MODEL TO PREDICT VALIDATION SET\n",
    "valid_pred = model.predict(valid_X)\n",
    "valid_results = pd.DataFrame({\n",
    "    'TOTAL_VALUE': valid_y,\n",
    "    'predicted': valid_pred,\n",
    "    'residual': valid_y - valid_pred\n",
    "})\n",
    "valid_results.head()"
   ],
   "id": "bd0e0714b7842fe",
   "outputs": [
    {
     "data": {
      "text/plain": [
       "      TOTAL_VALUE   predicted   residual\n",
       "1822        462.0  402.982108  59.017892\n",
       "1998        370.4  358.914637  11.485363\n",
       "5126        407.4  385.474466  21.925534\n",
       "808         316.1  384.594397 -68.494397\n",
       "4034        393.2  430.560431 -37.360431"
      ],
      "text/html": [
       "<div>\n",
       "<style scoped>\n",
       "    .dataframe tbody tr th:only-of-type {\n",
       "        vertical-align: middle;\n",
       "    }\n",
       "\n",
       "    .dataframe tbody tr th {\n",
       "        vertical-align: top;\n",
       "    }\n",
       "\n",
       "    .dataframe thead th {\n",
       "        text-align: right;\n",
       "    }\n",
       "</style>\n",
       "<table border=\"1\" class=\"dataframe\">\n",
       "  <thead>\n",
       "    <tr style=\"text-align: right;\">\n",
       "      <th></th>\n",
       "      <th>TOTAL_VALUE</th>\n",
       "      <th>predicted</th>\n",
       "      <th>residual</th>\n",
       "    </tr>\n",
       "  </thead>\n",
       "  <tbody>\n",
       "    <tr>\n",
       "      <th>1822</th>\n",
       "      <td>462.0</td>\n",
       "      <td>402.982108</td>\n",
       "      <td>59.017892</td>\n",
       "    </tr>\n",
       "    <tr>\n",
       "      <th>1998</th>\n",
       "      <td>370.4</td>\n",
       "      <td>358.914637</td>\n",
       "      <td>11.485363</td>\n",
       "    </tr>\n",
       "    <tr>\n",
       "      <th>5126</th>\n",
       "      <td>407.4</td>\n",
       "      <td>385.474466</td>\n",
       "      <td>21.925534</td>\n",
       "    </tr>\n",
       "    <tr>\n",
       "      <th>808</th>\n",
       "      <td>316.1</td>\n",
       "      <td>384.594397</td>\n",
       "      <td>-68.494397</td>\n",
       "    </tr>\n",
       "    <tr>\n",
       "      <th>4034</th>\n",
       "      <td>393.2</td>\n",
       "      <td>430.560431</td>\n",
       "      <td>-37.360431</td>\n",
       "    </tr>\n",
       "  </tbody>\n",
       "</table>\n",
       "</div>"
      ]
     },
     "execution_count": 6,
     "metadata": {},
     "output_type": "execute_result"
    }
   ],
   "execution_count": 6
  },
  {
   "metadata": {
    "ExecuteTime": {
     "end_time": "2025-05-17T00:28:18.334513Z",
     "start_time": "2025-05-17T00:28:17.005964Z"
    }
   },
   "cell_type": "code",
   "source": [
    "##CODE FOR LINEAR REGRESSION MODEL EVALUATION METRICS\n",
    "##Import utility functions\n",
    "from dmba import regressionSummary\n",
    "##training set\n",
    "regressionSummary(train_results.TOTAL_VALUE, train_results.predicted)\n",
    "##Validation set\n",
    "regressionSummary(valid_results.TOTAL_VALUE, valid_results.predicted)"
   ],
   "id": "2de93eeb5914279b",
   "outputs": [
    {
     "name": "stdout",
     "output_type": "stream",
     "text": [
      "no display found. Using non-interactive Agg backend\n",
      "\n",
      "Regression statistics\n",
      "\n",
      "                      Mean Error (ME) : 0.0000\n",
      "       Root Mean Squared Error (RMSE) : 43.7829\n",
      "            Mean Absolute Error (MAE) : 33.0033\n",
      "          Mean Percentage Error (MPE) : -1.1690\n",
      "Mean Absolute Percentage Error (MAPE) : 8.5972\n",
      "\n",
      "Regression statistics\n",
      "\n",
      "                      Mean Error (ME) : -0.0893\n",
      "       Root Mean Squared Error (RMSE) : 43.0420\n",
      "            Mean Absolute Error (MAE) : 32.2706\n",
      "          Mean Percentage Error (MPE) : -1.1355\n",
      "Mean Absolute Percentage Error (MAPE) : 8.4124\n"
     ]
    }
   ],
   "execution_count": 7
  },
  {
   "metadata": {
    "ExecuteTime": {
     "end_time": "2025-04-29T21:35:59.778836Z",
     "start_time": "2025-04-29T21:35:59.760781Z"
    }
   },
   "cell_type": "code",
   "source": [
    "##SCORE MODEL ACCORDING TO NEW DATA\n",
    "new_data = pd.DataFrame({\n",
    "    'LOT_SQFT': [4200, 6444, 5035],\n",
    "    'YR_BUILT': [1960, 1940, 1925],\n",
    "    'GROSS_AREA': [2670, 2886, 3264],\n",
    "    'LIVING_AREA': [1710, 1474, 1523],\n",
    "    'FLOORS': [2.0,1.5,1.9],\n",
    "    'ROOMS': [10, 6, 6],\n",
    "    'BEDROOMS': [4, 3, 2],\n",
    "    'FULL_BATH': [1, 1, 1],\n",
    "    'HALF_BATH': [1, 1, 0],\n",
    "    'KITCHEN': [1, 1, 1],\n",
    "    'FIREPLACE': [1, 1, 0],\n",
    "    'REMODEL_Old': [0, 0, 0],\n",
    "    'REMODEL_Recent': [0, 0, 1],\n",
    "})\n",
    "print(new_data)"
   ],
   "id": "a1deefcae11dd8a8",
   "outputs": [
    {
     "name": "stdout",
     "output_type": "stream",
     "text": [
      "   LOT_SQFT  YR_BUILT  GROSS_AREA  LIVING_AREA  FLOORS  ROOMS  BEDROOMS  \\\n",
      "0      4200      1960        2670         1710     2.0     10         4   \n",
      "1      6444      1940        2886         1474     1.5      6         3   \n",
      "2      5035      1925        3264         1523     1.9      6         2   \n",
      "\n",
      "   FULL_BATH  HALF_BATH  KITCHEN  FIREPLACE  REMODEL_Old  REMODEL_Recent  \n",
      "0          1          1        1          1            0               0  \n",
      "1          1          1        1          1            0               0  \n",
      "2          1          0        1          0            0               1  \n"
     ]
    }
   ],
   "execution_count": 8
  },
  {
   "metadata": {
    "ExecuteTime": {
     "end_time": "2025-04-29T21:35:59.869388Z",
     "start_time": "2025-04-29T21:35:59.859326Z"
    }
   },
   "cell_type": "code",
   "source": [
    "##Fit previous model to new data and evaluate the predictions\n",
    "print('Predictions: ', model.predict(new_data))"
   ],
   "id": "879eb63727a6f8e2",
   "outputs": [
    {
     "name": "stdout",
     "output_type": "stream",
     "text": [
      "Predictions:  [384.99324756 378.87054469 378.43712817]\n"
     ]
    }
   ],
   "execution_count": 9
  },
  {
   "metadata": {
    "ExecuteTime": {
     "end_time": "2025-05-17T00:33:40.519218Z",
     "start_time": "2025-05-17T00:33:40.480097Z"
    }
   },
   "cell_type": "code",
   "source": "housing_df.columns\n",
   "id": "3e6f6c78ddb0b6f2",
   "outputs": [
    {
     "data": {
      "text/plain": [
       "Index(['TOTAL_VALUE', 'TAX', 'LOT_SQFT', 'YR_BUILT', 'GROSS_AREA',\n",
       "       'LIVING_AREA', 'FLOORS', 'ROOMS', 'BEDROOMS', 'FULL_BATH', 'HALF_BATH',\n",
       "       'KITCHEN', 'FIREPLACE', 'REMODEL_Old', 'REMODEL_Recent'],\n",
       "      dtype='object')"
      ]
     },
     "execution_count": 8,
     "metadata": {},
     "output_type": "execute_result"
    }
   ],
   "execution_count": 8
  }
 ],
 "metadata": {
  "kernelspec": {
   "display_name": "Python 3",
   "language": "python",
   "name": "python3"
  },
  "language_info": {
   "codemirror_mode": {
    "name": "ipython",
    "version": 2
   },
   "file_extension": ".py",
   "mimetype": "text/x-python",
   "name": "python",
   "nbconvert_exporter": "python",
   "pygments_lexer": "ipython2",
   "version": "2.7.6"
  }
 },
 "nbformat": 4,
 "nbformat_minor": 5
}
